{
 "cells": [
  {
   "cell_type": "markdown",
   "metadata": {},
   "source": [
    "# Projeto 1 - Ciência dos Dados"
   ]
  },
  {
   "cell_type": "markdown",
   "metadata": {},
   "source": [
    "Nome: Alberto Carrera\n",
    "\n",
    "Nome: Gabriel Barbosa\n",
    "\n",
    "Nome: Rodrigo Gomes"
   ]
  },
  {
   "cell_type": "markdown",
   "metadata": {},
   "source": [
    "Atenção: Serão permitidos grupos de três pessoas, mas com uma rubrica mais exigente. Grupos deste tamanho precisarão fazer um questionário de avaliação de trabalho em equipe"
   ]
  },
  {
   "cell_type": "markdown",
   "metadata": {},
   "source": [
    "___\n",
    "Carregando algumas bibliotecas:"
   ]
  },
  {
   "cell_type": "code",
   "execution_count": 55,
   "metadata": {},
   "outputs": [],
   "source": [
    "%matplotlib inline\n",
    "import pandas as pd\n",
    "import matplotlib.pyplot as plt\n",
    "import numpy as np\n",
    "import os"
   ]
  },
  {
   "cell_type": "code",
   "execution_count": 56,
   "metadata": {
    "scrolled": false
   },
   "outputs": [
    {
     "name": "stdout",
     "output_type": "stream",
     "text": [
      "Esperamos trabalhar no diretório\n",
      "C:\\Users\\alber\\OneDrive\\Área de Trabalho\\C Dados\\Projeto 1 Cdados\\Pasta Projeto 1\\Projeto1_CDados\n"
     ]
    }
   ],
   "source": [
    "print('Esperamos trabalhar no diretório')\n",
    "print(os.getcwd())"
   ]
  },
  {
   "cell_type": "markdown",
   "metadata": {},
   "source": [
    "Carregando a base de dados com os tweets classificados como relevantes e não relevantes:"
   ]
  },
  {
   "cell_type": "code",
   "execution_count": 57,
   "metadata": {},
   "outputs": [],
   "source": [
    "filename = 'tesla.xlsx'"
   ]
  },
  {
   "cell_type": "code",
   "execution_count": 58,
   "metadata": {},
   "outputs": [
    {
     "data": {
      "text/html": [
       "<div>\n",
       "<style scoped>\n",
       "    .dataframe tbody tr th:only-of-type {\n",
       "        vertical-align: middle;\n",
       "    }\n",
       "\n",
       "    .dataframe tbody tr th {\n",
       "        vertical-align: top;\n",
       "    }\n",
       "\n",
       "    .dataframe thead th {\n",
       "        text-align: right;\n",
       "    }\n",
       "</style>\n",
       "<table border=\"1\" class=\"dataframe\">\n",
       "  <thead>\n",
       "    <tr style=\"text-align: right;\">\n",
       "      <th></th>\n",
       "      <th>Treinamento</th>\n",
       "      <th>Classificação</th>\n",
       "    </tr>\n",
       "  </thead>\n",
       "  <tbody>\n",
       "    <tr>\n",
       "      <th>0</th>\n",
       "      <td>@gnavarrocbz tesla é totalmente fora de cogita...</td>\n",
       "      <td>1</td>\n",
       "    </tr>\n",
       "    <tr>\n",
       "      <th>1</th>\n",
       "      <td>em 2025 a vw quer disponibilizar em algumas ci...</td>\n",
       "      <td>2</td>\n",
       "    </tr>\n",
       "    <tr>\n",
       "      <th>2</th>\n",
       "      <td>@repl1cunt diga isso ao dono do tesla</td>\n",
       "      <td>0</td>\n",
       "    </tr>\n",
       "    <tr>\n",
       "      <th>3</th>\n",
       "      <td>@al43610394 @felipeneto ah é? elon musk é o qu...</td>\n",
       "      <td>1</td>\n",
       "    </tr>\n",
       "    <tr>\n",
       "      <th>4</th>\n",
       "      <td>@shipheroshe a tesla.</td>\n",
       "      <td>1</td>\n",
       "    </tr>\n",
       "  </tbody>\n",
       "</table>\n",
       "</div>"
      ],
      "text/plain": [
       "                                         Treinamento  Classificação\n",
       "0  @gnavarrocbz tesla é totalmente fora de cogita...              1\n",
       "1  em 2025 a vw quer disponibilizar em algumas ci...              2\n",
       "2              @repl1cunt diga isso ao dono do tesla              0\n",
       "3  @al43610394 @felipeneto ah é? elon musk é o qu...              1\n",
       "4                              @shipheroshe a tesla.              1"
      ]
     },
     "execution_count": 58,
     "metadata": {},
     "output_type": "execute_result"
    }
   ],
   "source": [
    "train = pd.read_excel(filename)\n",
    "train.head(5)"
   ]
  },
  {
   "cell_type": "code",
   "execution_count": 59,
   "metadata": {},
   "outputs": [
    {
     "data": {
      "text/html": [
       "<div>\n",
       "<style scoped>\n",
       "    .dataframe tbody tr th:only-of-type {\n",
       "        vertical-align: middle;\n",
       "    }\n",
       "\n",
       "    .dataframe tbody tr th {\n",
       "        vertical-align: top;\n",
       "    }\n",
       "\n",
       "    .dataframe thead th {\n",
       "        text-align: right;\n",
       "    }\n",
       "</style>\n",
       "<table border=\"1\" class=\"dataframe\">\n",
       "  <thead>\n",
       "    <tr style=\"text-align: right;\">\n",
       "      <th></th>\n",
       "      <th>Teste</th>\n",
       "      <th>Classificação</th>\n",
       "    </tr>\n",
       "  </thead>\n",
       "  <tbody>\n",
       "    <tr>\n",
       "      <th>0</th>\n",
       "      <td>@h3nrys2 quem curtir aqui vai me dar um porsch...</td>\n",
       "      <td>1</td>\n",
       "    </tr>\n",
       "    <tr>\n",
       "      <th>1</th>\n",
       "      <td>terminei o bendito resumo do tesla e to me sen...</td>\n",
       "      <td>1</td>\n",
       "    </tr>\n",
       "    <tr>\n",
       "      <th>2</th>\n",
       "      <td>@mattayahumateus aluga um tesla matta</td>\n",
       "      <td>1</td>\n",
       "    </tr>\n",
       "    <tr>\n",
       "      <th>3</th>\n",
       "      <td>100% elétrico: como foi a experiência de dirig...</td>\n",
       "      <td>3</td>\n",
       "    </tr>\n",
       "    <tr>\n",
       "      <th>4</th>\n",
       "      <td>gente off aqui eu tentei ouvir tesla na viagem...</td>\n",
       "      <td>3</td>\n",
       "    </tr>\n",
       "  </tbody>\n",
       "</table>\n",
       "</div>"
      ],
      "text/plain": [
       "                                               Teste  Classificação\n",
       "0  @h3nrys2 quem curtir aqui vai me dar um porsch...              1\n",
       "1  terminei o bendito resumo do tesla e to me sen...              1\n",
       "2              @mattayahumateus aluga um tesla matta              1\n",
       "3  100% elétrico: como foi a experiência de dirig...              3\n",
       "4  gente off aqui eu tentei ouvir tesla na viagem...              3"
      ]
     },
     "execution_count": 59,
     "metadata": {},
     "output_type": "execute_result"
    }
   ],
   "source": [
    "test = pd.read_excel(filename, sheet_name = 'Teste')\n",
    "test.head(5)"
   ]
  },
  {
   "cell_type": "code",
   "execution_count": 60,
   "metadata": {},
   "outputs": [
    {
     "data": {
      "text/plain": [
       "Teste                                                                                                                                                                                                                                                      Classificação\n",
       "\"a vida é e sempre será uma equação incapaz de solução, mas contém certos fatores conhecidos.\"\\n\\nnikola tesla.                                                                                                                                            0                1\n",
       "eu quero tanto aquele tesla roxo refletivo🥺😭😓😭                                                                                                                                                                                                             1                1\n",
       "fui no aniversário da minha prima e o padrinho dela (que não é parente meu) foi dar uma de coach pra cima de mim falando que sou parecido com o tesla sendo que kkkkk ele não sabia que era o tesla, ele achava que era o elon musk que chamava tesla '-'  0                1\n",
       "formar e arrumar um trampo foda pra ter grana pra comprar um tesla                                                                                                                                                                                         2                1\n",
       "ford recluta doug field ex dirigente apple car e tesla -  #recluta #field #dirigente #apple  https://t.co/jsrzgbed14                                                                                                                                       1                1\n",
       "                                                                                                                                                                                                                                                                           ..\n",
       "@pnelsxn bom dia perso\\ncade meu tesla?                                                                                                                                                                                                                    1                1\n",
       "@pnelsxn bom dia penilto, me da meu tesla                                                                                                                                                                                                                  2                1\n",
       "@pedrocalvo @kleytonmadruga @akitaonrails pra mim isso foi lobby da china afinal são eles que vão fabricar carro elétrico para todo.\\n\\na indústria é muito menos complexa q carro a combustão.\\n\\nnão vai ser um tesla, mas vai andar 😆                   1                1\n",
       "@pdunkelsz @adrogadadomonte @lticooficial @anonymouscrec sim, pra policia ir comer teu cu dps, cara foi esperto em comprar algo de 70 conto enquanto tem gente comprando até tesla importado                                                               1                1\n",
       "🚗a montadora #tesla planeja lançar um carro elétrico sem volante, a partir de 2023. a previsão de #elonmusk é que o novo veículo seja totalmente autônomo #tesla34\\nhttps://t.co/gxiubnw3mq                                                                3                1\n",
       "Length: 350, dtype: int64"
      ]
     },
     "execution_count": 60,
     "metadata": {},
     "output_type": "execute_result"
    }
   ],
   "source": [
    "test.value_counts()"
   ]
  },
  {
   "cell_type": "code",
   "execution_count": 61,
   "metadata": {},
   "outputs": [
    {
     "data": {
      "text/html": [
       "<div>\n",
       "<style scoped>\n",
       "    .dataframe tbody tr th:only-of-type {\n",
       "        vertical-align: middle;\n",
       "    }\n",
       "\n",
       "    .dataframe tbody tr th {\n",
       "        vertical-align: top;\n",
       "    }\n",
       "\n",
       "    .dataframe thead th {\n",
       "        text-align: right;\n",
       "    }\n",
       "</style>\n",
       "<table border=\"1\" class=\"dataframe\">\n",
       "  <thead>\n",
       "    <tr style=\"text-align: right;\">\n",
       "      <th></th>\n",
       "      <th>Treinamento</th>\n",
       "      <th>Classificação</th>\n",
       "    </tr>\n",
       "  </thead>\n",
       "  <tbody>\n",
       "    <tr>\n",
       "      <th>0</th>\n",
       "      <td>@gnavarrocbz tesla é totalmente fora de cogita...</td>\n",
       "      <td>1</td>\n",
       "    </tr>\n",
       "    <tr>\n",
       "      <th>1</th>\n",
       "      <td>em 2025 a vw quer disponibilizar em algumas ci...</td>\n",
       "      <td>2</td>\n",
       "    </tr>\n",
       "    <tr>\n",
       "      <th>2</th>\n",
       "      <td>@repl1cunt diga isso ao dono do tesla</td>\n",
       "      <td>0</td>\n",
       "    </tr>\n",
       "    <tr>\n",
       "      <th>3</th>\n",
       "      <td>@al43610394 @felipeneto ah é? elon musk é o qu...</td>\n",
       "      <td>1</td>\n",
       "    </tr>\n",
       "    <tr>\n",
       "      <th>4</th>\n",
       "      <td>@shipheroshe a tesla.</td>\n",
       "      <td>1</td>\n",
       "    </tr>\n",
       "  </tbody>\n",
       "</table>\n",
       "</div>"
      ],
      "text/plain": [
       "                                         Treinamento  Classificação\n",
       "0  @gnavarrocbz tesla é totalmente fora de cogita...              1\n",
       "1  em 2025 a vw quer disponibilizar em algumas ci...              2\n",
       "2              @repl1cunt diga isso ao dono do tesla              0\n",
       "3  @al43610394 @felipeneto ah é? elon musk é o qu...              1\n",
       "4                              @shipheroshe a tesla.              1"
      ]
     },
     "execution_count": 61,
     "metadata": {},
     "output_type": "execute_result"
    }
   ],
   "source": [
    "train = pd.read_excel(filename, sheet_name = 'Treinamento')\n",
    "train.head(5)"
   ]
  },
  {
   "cell_type": "markdown",
   "metadata": {},
   "source": [
    "___\n",
    "## Classificador automático de sentimento\n"
   ]
  },
  {
   "cell_type": "markdown",
   "metadata": {},
   "source": [
    "Faça aqui uma descrição do seu produto e o que considerou como relevante ou não relevante na classificação dos tweets.\n",
    "\n",
    "Classificados como 0: \n",
    "- Tweets que falam sobre Nikola Tesla\n",
    "- Tweets que só marcam pessoas e não falam sobre o produto\n",
    "\n",
    "\n",
    "Classificados como 1:\n",
    "- Fala sobre o produto\n",
    "\n",
    "\n",
    "Classificados como 2:\n",
    "- Falam diretamente sobre o produto, criticando ou elogiando\n",
    "\n",
    "\n",
    "Classificados como 3:\n",
    "- Falam diretamente sobre o produto, criticando ou elogiando\n",
    "- Além de se aprofundar no assunto, ou falando sobre ações ou sobre planos futuros, etc."
   ]
  },
  {
   "cell_type": "markdown",
   "metadata": {},
   "source": [
    "___\n",
    "### Montando um Classificador Naive-Bayes\n",
    "\n",
    "Considerando apenas as mensagens da planilha Treinamento, ensine  seu classificador."
   ]
  },
  {
   "cell_type": "code",
   "execution_count": 62,
   "metadata": {},
   "outputs": [],
   "source": [
    "import re \n",
    "\n",
    "\n",
    "def cleanup(text):\n",
    "    \"\"\"\n",
    "        Função de limpeza muito simples que troca alguns sinais básicos por espaços\n",
    "    \"\"\"\n",
    "    #import string\n",
    "    punctuation = '[!-.:?;]' # Note que os sinais [] são delimitadores de um conjunto.\n",
    "    #biblio \"emoji\", get_emoji_regexp\n",
    "    pattern = re.compile(punctuation)\n",
    "    text_subbed = re.sub(pattern, '', text)\n",
    "    return text_subbed"
   ]
  },
  {
   "cell_type": "code",
   "execution_count": 63,
   "metadata": {},
   "outputs": [
    {
     "data": {
      "text/plain": [
       "0      @gnavarrocbz tesla é totalmente fora de cogitação\n",
       "1      em 2025 a vw quer disponibilizar em algumas ci...\n",
       "2                  @repl1cunt diga isso ao dono do tesla\n",
       "3      @al43610394 @felipeneto ah é elon musk é o que...\n",
       "4                                   @shipheroshe a tesla\n",
       "                             ...                        \n",
       "645    @memeinteligente hawking e schrödinger as linh...\n",
       "646    @astronomiaum eh muito louco isso né vi um víd...\n",
       "647    magnata chinês que comprou volvo da ford plane...\n",
       "648    eletricidade foi o mais marcou a carreira de t...\n",
       "649    @trbabydogecoin @binance @babydogecoin @elonmu...\n",
       "Name: Treinamento, Length: 650, dtype: object"
      ]
     },
     "execution_count": 63,
     "metadata": {},
     "output_type": "execute_result"
    }
   ],
   "source": [
    "treino = train.Treinamento.apply(cleanup)\n",
    "treino"
   ]
  },
  {
   "cell_type": "code",
   "execution_count": null,
   "metadata": {},
   "outputs": [],
   "source": []
  },
  {
   "cell_type": "code",
   "execution_count": 64,
   "metadata": {},
   "outputs": [
    {
     "data": {
      "text/plain": [
       "' @repl1cunt diga isso ao dono do tesla @daianemels que maldade poderia de atochada @aviacaodobrasil @govbr não basta ter uma pista maior é preciso ter voos regulares @tesla_hyp eu tô passando mal vei como pode ser tão lerdo @the_soloking76 @gamersclubcs @gio_fps foi sorte nikola tesla era genial eu queria ter conhecido pessoalmente @sapo_pepe77 pergunta adm\\nqual sua opinião sobre nikolas teslase você tiver uma e claro @ltgrzw a tesla já tem o destino dela traçado com o aladin mil desculpas bem que eu queria que ela largasse ele e ficasse com o cantor teen @lionel_richards @ryanzohoury @tesla @elonmusk k “bro” @raijinfagkkk crl esse tesla virando charizard @mxcr_y @pesgocomaids boa madu dps dessa tu quer oq porra um prêmio nobel por acaso ow nikola tesla da geração z lineu considerado pai da taxonomia estudou o sistema de classificação dos guaranis e a partir dele sem dar os devidos créditos criou a taxonomia em latim a ciência é marcada por apagamentos e violências simbólicas busquem saber a história de tesla e da rosalind franklin jungkook foi mencionado ao lado de príncipe harry e meghan markle o ceo da tesla e spacex elon musk e o fundador da amazon jeff bezos\\n\\n🖇 https//tco/j5o1vccq88\\njungkook 정국 ジョングク @bts_twt \\nvia jungkookpress @talkingtesla @tesla lutz is a yutz @jpegmaru esse é possivelmente o melhor resumo de nikola tesla que eu já li o local teria sido recentemente comprado por us 125 milhões pela apple que o teria alugado nos últimos cinco anos de acordo com o az big media https//tco/zll1uuhbqd noa newsonapple apple iphone ipad applecar icar car tesla appleev @yoonnam0 @anonymousbrof  se isso for verdade cm a poha de dinheiro q o bolsonaro tem se compra a poha de um tesla pros seus pais a maioria das pessoas está tão absorta na contemplação do mundo exterior que está totalmente alheia ao que está acontecendo em si\\n\\nnikola tesla @iberethenorio bem que você podia fazer algo usando a turbina de tesla que se utiliza do efeito de viscosidade para funcionar @oque_prefere ser o nikola tesla parece bom quem foi que colocou elon musk e tesla no nct life nem gteult pensaria nisso @_mrs_tesla @1789babeuf bravo gosto mt de jordan mas tem tanto tenis que da de 10 a zero\\nsó a linha completa da tesla skate ja pisa zerei nikola tesla português/inglês em todas as plataformas nada p/ fazer 🙁 queria tanto virar professora de artes serasse o tesla me contrata daqui 10anos so queria um tênis da tesla aind vou comprar 💔 @nano_sexo tesla f1 team me corro @vincios666 @crimesreais isso me lembrou de um biografia que eu li biografia do nikola tesla\\naí podemos entrar em assuntos como 6° 7° 8° sentidos intuição percepção extra sensorial desdobramento da alma e por aí vai https//tco/mk8gmdna93 @angelogpc vc tá tão firme no racionamento q ñ vai acender a lâmpada do escritório ac 220v tesla https//tco/5jfxytpd18 pensando nele nikola tesla❤ descobri que em 2019 me hospedei no hotel onde nikola tesla morreu seria isso um sinal de que você tem que calar a boca e me beijar a terra não é um planeta 🌏\\né um reino✍️🙎\\n\\n       nikola tesla  https//tco/rvvz1wpamc @bergamo_tata do tesla foi só umkkkkkkkkkk vou te falar @nickson75344494 @ouwmandy @fillipems @gandalfdeak47 @fabiomachadode3 @03p__m se apoiar esse movimento é usar o cérebro então eu sou o nikola tesla @falconwingsnj k 1 sec @eduardopaes o interessante dessa propaganda é que foi estimulada por edisonjustamente quem criou a primeira empresa de eletricidade para derrubar o concorrentetesla parece o mesmo caso dos terraplanistas eles têm plena consciência da besteira que falam mas querem derrubar o concorrente @tiagogreis hoje 50 da minha carteira internacional está para gerar beta no etf qqq \\n\\n533 do qqq está em apple microsoft amazon facebook google tesla nvidia paypal e adobe não tem erro }¥|¥\\\\gtamp¥gt\\\\£€{•=~£ coisas do tesla me fazem odiar menos matematica @lulubelfort @daniiichu__ robô da tesla ele faz trabaio perigoso e repetitivo @sigagazetabr se ele engrossar a voz sai de perto @stevenmarkryan @garyblack00 or tesla short o doc do nostalgia sobre nikola tesla ta maravitop puta q pariu tesla 300 humil ganhava 72 dolares no mes trabalhava q nem burro d carga e o thomas edson kkk to de meme vo te da aumento naokskksksksk se fodeu pobre imundo @anarcomaa @banddoleror @puerrroo o milagrosa 😂😂 ao mesmo tempo que tesla foi um grande nome para a evolução humana não exclui o fato dele ser um gordofobico e defensor da eugenia 🤢🤢 @astroxplicit isso vai te assombrar pra sempre né astro a paquita da tesla tesla is so sexy edson cusao \\n\\ntesla rei da porra toda https//tco/pguzmx7lwy tudo está no universo o meu cérebro é o receptor✍️🙎\\n\\n           nikola tesla  https//tco/qeqhmopbet @sofia_spp04 leonardo o tesla novo ímã supercondutor quebra os recordes de força de campo magnético abrindo caminho para a energia de fusão\\npela 1ª vez um eletroímã supercondutor de alta temperatura foi aumentado para uma intensidade de campo de 20 tesla o mais poderoso já criado\\n\\nhttps//tco/091utld9aa https//tco/13vc099ecd tesla falava q as mulheres eram melhores que ele em tudo isso no seculo 19 lol lul @umservivoboy eu tava vendo uma teoria que o susanno vai virar de lado que nem o buda kkk tesla vs belzebu seria dahora mais uma que to louco pra ver é odin vs leônidas aei x tesla @nikolas_dm nikolas tesla quero ibagems do espaço @carlosdg_tesla @comunidadmadrid @aytopinto @adrianbarbon @turismoasturias @auve_asturies @lavozdeaviles @adrianomones puxa asturies @wanted_tonytony o tesla vivia fumando e apostando quando jovem felizmente ele mudou e criou bons hábitos e se tornou um gênio já posso dar aula de física por causa do tanto de coisa que li sobre nikola tesla @cardoso afff todo mundo sabe que quem inventou foi o “nicolas tesla” por isso tem a marca com o nome dele… dãããr… issonaoehserio sarcasm ehverdaderevebinozap @p4ivafds @ry0asuka__ @lucasraioz tesla ainda precisa de motorista @matheuslaneri quando eu lanço um procv bem feitinho me sinto no mesmo nível do nikola tesla eu sou fanatica pelo tesla @goeseokjn é o nikola tesla meu bem to chorando dms com a historia do tesla lera para salvar a vida de sua mae tesla monteiro é obrigada a se https//tco/a7ahwpgwuz https//tco/wlswnjge0o ok ouvir biólogo palestrina é chato mas vocês já conversaram com um fã de nikola tesla em todo o espaço há energia é só uma questão de tempo até que os homens tenham êxito em associar seus mecanismos ao aproveitamento desta energia\\n\\nnikola tesla https//tco/zjnoxbn90y tava assistindo o vídeo do nikola tesla do nostalgia e ele cita o thomas edison como um dos maiores inventores do século mas na minha cabeça eu achava que ele só patenteava a maioria dessas invenções corrigiame se eu estiver errada a ideia é ótima ninguém pensou nisso antes só o nikola tesla em 1894 mas eram umas lâmpadas velhas https//tco/hbg6myawm0 lenovoin motorola nikola tesla desde criança conseguia ver um motor de indução muito antes dele o concretizar einstein adolescente conseguia ver um fóton apostando corrida com outro fóton\\n\\no que será que eu consigo ver e que ninguém mais ver e que é uma solução científica 🥺🥺 @nayerlinls @tchulinhoo @crimesreais ainda mais se fosse prints de energias gratuitas que tanto o nikola tesla queria desenvolver pra população em geral eles querem é que mais a gente se foda pagando tudo oq puder pra pagar aprendi muito sobre o tesla nesse vídeo influenciou em coisas do meu cotidiano que eu nem imaginava\\ncastanhari é pica faz um puta trabalho foda em cada um dos seus vídeos amo esse cara https//tco/lvaliufzpw @yellowpearlkji óbvio que sou eu né yellowpearlkji ate pq a gatinha aqui ja ta na faculdade e ganhando varios dinheirinhos quase o dono da tesla eqt a outra ali ta desde 2020 tentando ser aceita em qualquer empresa pra ser idol q nem o irmao @elonmusk @wholemarsblog is tesla testing ap system in india rn o cara vai fazer gastronomia mas quer construir uma bobina de tesla musical kkkkkkkkkkkkkkkkkkkkkkkkkkkkkkk eu só tenho ideia boa queria clonar os cartões do bozo e comprar uma casa pra mim um tesla e ir pra paris\\n é pedir dms  @iberethenorio \\nolha isso aí iberê da pra radicalizar um vídeo aí sobre a bobina de tesla musical \\nhttps//tco/iyq5w3hvxt @kamidraco_sg tesla da silva elon musk é escaralho pprt kkkkkkkkkkkk ora cat o rival elétrico do vw id3 ora é uma submarca da chinesa great wall https//tco/kbwxtty93t a guerra das correntes [o que o nostalgia não disse] tesla vs edison  https//tco/pe1dadpm6u via @youtube coisas q eu vou fazer até o final de 2022\\n rock in rio\\n surfar\\n montar uma bobina de tesla musical @lettaguedes @leticialetom @cludiosantosne2 @jairbolsonaro não tem poste em brasilia\\n\\nusam bobinas de tesla todo mundo sabe que nicola tesla foi assassinado maratonei a mini série do tesla de novo scrr como eu amo esse desenho @joaohpr o kauai por 25k 30k diesel até que vá pq interiores e qualidade em geral ñ justifica\\n46k para o de 64kw\\né por isso que o tesla model 3 vende de carago por mais 4k e mesmo esse volvo mas lá está estamos sempre nos 50k\\no peugeot 208 ou 2008 andam nos 30k mas autonomia explicado o ‘mistério’ do tesla queimado encontrado num lago gelado\\nhttps//tco/r0qp22p4at @memeinteligente escolho o nikola tesla e o issac newton o pq n me pergunte muito obrigado pelo feedback positivo em nosso último doc nostalgia sobre a vida do tesla \\n\\nbatemos 3 milhões de acessos em apenas duas semanas agradeço de coração toda moral que vocês dão para esse humilde nariz ❤️ https//tco/bbiyctkrd6 @wtv_may @llcooltense a opinião própria de que um reliant robin não é um tesla ou um bmw é tudo uma questão de nicho de mercado  @ammyconfusa tem um drink aqui chamado nikola tesla servido num copo que é um bulbo de lâmpada @liquuid sim essa da troca de baterias seria bacana e eficiente a tesla tá desenvolvendo essa bateria integrada ao chassi pra diminuir custos  e evitar capotamentos se não me engano o puto de 5 perguntoume como é q temos eletricidade em casa estamos a ver o filme do tesla à pala disso e agora está a fazerme perguntas sobre o cicli da água estamos há 1h nisto e ele não tirou nunca os olhos de mim enquanto explicava tudo adoro os meus nerds cá de casa “o presente é deles mas o futuro pelo o qual eu sempre trabalhei é meu” nikola tesla https//tco/rlak9dmupo @brightiukov @luasgalileanas @fiddler_green52 documentário do tesla… é muito bom eu chorei no final preciso te contar as frases falei que ia estudar e to assistindo documentário sobre nikola tesla long live rock do halestorm faz reflorescer meu amor por tesla e a saudade do festival com lynyrd e deep purple que nunca ocorreu🥺 0330 e eu pedindo pra isadora me explicar como o nicholas tesla morreu @geekflixx se isso é um deepfake eu sou um tesla @jaquelinotweet @rconstantino a mulherada odeia matemática  quando falo que admiro tesla e werber von braun minhas colegas me olham como se fosse de outra galáxia  eu sou excluída de tudo  será a isto o machismo feminista  tesla era e é magnifico é bem aquela coisa sobre reconhecimento em vida né não tem tesla frank arrependido por demorar a se vacinar dei ouvidos a gente não qualificada https//tco/jyy1qcyigz  https//tco/cijcxlnldm https//tco/ggo2gr0yhk @mliebow @sawyermerritt @elonmusk tesla short @jvpeluci @adrenaline provavelmente não tesla não quer gastar dinheiro com nada que envolva marketing é meio que o lema deles não gastar nem um centavo com propagando ou algo do tipo @yan_06_rossi_br @canalteslabr agradecido 🙂 @cfrankhanson @yaw_beyin @sikaofficial1 @gyaigyimii @franswagga @tesla ooo chaman 🤯🙆🏽\\u200d♂️😂 @pksilvia bonito @audispain etrongt rs 🔝 @yamantroz eu li os segredos da mente milionária adoro os livros do neville goddard joseph murphy nikola tesla gregg braden tem me ajudado absurdamente @benvea_ tesla je bio epeder @raymarxes poderiam aproveitar a falta de assunto e falar sobre os sumérios nikolas tesla etc já que nas escolas nada falam sobre os mesmos e tem muita gente que ignora suas existências mas pelo visto tem muitas outras que preferem o clamor de uma love history  usher crowder june22coup google ethan cristiano cristiano ronaldo para audi a3 8p s3 android rádio 20082012 carro multimídia player px6 tesla estéreo áudio autoradio gps navi unidade principal https//tco/avwaomvaar https//tco/3yhpirvpqe sou fissurada por documentários ainda mais sendo sobre a vida de cientistas que eu tanto admiro esses dias estava vendo dois um sobre o nikola tesla e outro do stephen hawking gênios incomparáveis pra mim @amysongx petição pra um rolê do wrench marcus e bagley em um robo tesla @quennlaa @lucaslh110 tu é uma péssima tesla essa cor caiu bem ao ejs1 https//tco/vgqjzdxskk tesla um inventor tão a frente de seu tempo que era nazista e ecofascista antes mesmo de nazismo e fascismo existirem @mountzada mentira nikola tesla dormia praticamente 2 horas por dia\\n\\nqual sua desculpa agr @fuinhafps @_eabrasil @respawn @rockstargames @ubisoftbrasil não ten jeito de comprar esse jogo @tesla @amazon @markzuckerman tem como comprar essa empresa status de visita 7 pessoas viram esse perfil https//tco/ioj5ghia5w @huddster2 @sawyermerritt tesla q genius 🤣 @ofchiram @goestoansures @sapo_pepe77 nenhum ser humano tem o conhecimento totalvamos ter maturidade e não usar frases ruins que servem para inferiorizar alguémafinal você não sabe inventar igual tesla @sargentofahur esse lixo de emissora já saiu da minha casa há muito tempo jr tesla é tao feio e tao péssimo 😭 o gato está 500 elétrico hoje parece que é um golden retriever da tesla e não vai descarregar nunca queria voltar no tempo e ouvir oq o nicolas tesla tinha a dizer das coisinhas q passava na cabeça dele😭👍🏼 o homi era brabo dms como q pode pai da eletricidade go tesla https//tco/jxf7su7jqc @fecastanhari olha uma vez dormi assistindo vídeo do @mateiformiga e acordei e tava passando o vídeo do tesla  acordei achando que era o fôlego passando informação histórica e de boa qualidade até achei estranho até eu perceber que não era ele apskpakdpakspalsoa no ar \\n\\nno episódio de hoje de paracelso o fenomenal confira os experimentos cromatografia em papel e bobina de tesla\\n\\npara acessar a versão com acessibilidade https//tco/7oaui10phm\\nvídeo sem recursos de tecnologia assistiva https//tco/tvpvw73mn3 https//tco/jyktszbxke @gatadobusao @carolborgesart o cachorro eh uma bobina de tesla zzzzzzzzzzzzzzzzzzzzzzzzzzzzzzzzzzzzzzzzzzzzzzzzzzzzzzzzzzzzzzzzzzzzzz velho os vídeos do @fecastanhari são tops de mais o cara aborda assuntos interessantíssimos com uma puta qualidade de produção esse episódio do tesla ficou muito bem feito morra torneira do alfa tesla @biasanches_ ser amigo do dono pra jogar no tesla eu preciso muito comprar esse tênis tesla branco é muito lindo @smartertrader lfg tesla @marcrosello a tesla @krawk isso ou aquilo músicas\\n\\ntesla ou confesso\\nonline ou festinha\\nbmw monstra ou equilíbrio\\nshark ou debochado\\nilícitos ou jogador n olha p ft\\neurotrip 1 ou 2\\nkit novo ou oh shit\\nsolidão ou onde c tá\\ncalma bro ou fácil\\nenvolvido no problema ou yokel\\n\\nrespondam com a tag o primeiro episódio de nct life in gapyeong foi basicamente o taeil uma criança realizando o sonho de dirigir um tesla o mark sendo uma criança eterna e o yuta acabando com meu psicológico a cada segundo pois ele sorriu durante o episódio todinho @safermoonreal @tesla 0xa9e99bb4b6cd38241c2f4c9a94ffac8f76832e58 queria um teslabot pra lavar louça molhar as plantas e passear os cachorros juntando as bostas\\n\\nhttps//tco/ibhsrtfsnt @luladrao171 nikolas tesla falava vivemos em um mundo no qual alguns imaginam que a maior guerra é do bem contra o mau porém a maior guerra é da ignorância contra a sabedoria welp acabei de acordar de uma sesta de duas horas e por momentos senti me perdida quando acordei no banco de tras de um carro que junca tive mas depois lembrei me also a merda do aviso do “my owner will be right back” do tesla tava ativo … cunts i was asleep samuel desde ontem falando de tesla @elonmusk @itsallrisky @jefftutorials hey eloína charge my tesla na vdd a bicha é milionária anda de tesla e provavelmente um relógio da é o preço da minha casa não precisa ficar fazendo música para gente pobre escutar homem fez o “golpe do atropelamento” mas tesla filmou tudo e acabou detido https//tco/82mnto6ovs @gabrylopes2001 e por isso q eu e o @luchinex13 usa tesla @goiasdepressao @cuiabayern vdd eu sou um tesla eu acho chato matemática só estudei matemática quando quis competir  e fui muito bem cheguei na semi final só estudei física quando descobri tesla e a arte que aquilo poderia ser tudo o que sempre fiz foi pra competir ou pra entender a arte  @hernaneeeee sera que vai funcionar no meu tesla @oque_prefere se eu escolher o vermelho eu posso ser como o nikola tesla\\nse eu escolher o azul eu vou ser como aquela empresa lá dona do lol o corpo é 70 água você não é gorda mas sim alagada\\n\\n                                    nikola tesla @eduardopaes a briga não era contra a eletricidade essa imagem foi usada como propaganda por thomas edson contra a corrente ac proposta por tesla\\nexistia uma concorrência entre edson corrente dc e tesla corrente ac que é a que usamos hj @nosferus1 @laulauls ta safe tesla dormia menos e foi um gênio @hyewolfy @ong_i3 nikola tesla e um cara bacana alguém me explica o por que de não aprender nada sobre nikola tesla na escola meus parabéns 👏🏻👏🏻aproveite muito 😃 https//tco/3mkvnnpkeu uaw tesla incoming https//tco/x3ahnzn2ay https//tco/9e7ppbiydg @kyunpotter é o nikola tesla @sofia_spp04 coincido tesla @nathcarradore compre um tesla quem puder bigodinho de nicolas tesla e cabeça do megamente o ying yang dos gênios coop noob saibot https//tco/rfeiiyxnau tesla manias e coisas que você não sabia https//tco/3spsoiihtd via @youtube @magazinetesla @drevetcyril @tesla @teslaclubfrance @elonmusk @turbofr par exemple ou autre @umservivoboy @shunsuiuriel ainda acho que belzebu vs sakata kintoki combina mais mas tesla vs belzebu combina também porque são dois cientistas @elguertano hostia acho tarde no 😂 @agrogiri é um tesla eu assisti a história do tesla quase chorei me as a quality control supervisor at tesla https//tco/asjlcjdlke se você quiser entender o universo pense nos termos de energia freguesia e vibração✍️🙎\\n\\n   nikola tesla  https//tco/0hx1zwywzk dez da noite e a manu vendo vídeo do nicolas tesla as vezes eu me questiono como ela tem amigos @14n9f0rd isso mesmo linda agora fala para a a tesla largar o aladin e namorar comigo pq eu sou decente e não faço apostas 🗣🗣 @tesla_creador tavas folgao eh @rubidio_tesla juntos somos mais fortes @cmclaraa robô de tesla kskskssks @pastormalafaia fala meu pastor\\nobrigado por ser a voz de muitos que gostaria de ter a sua coragem deus continue te usando grandemente em favor do nosso país dizem que o tempo é ciência e tivemos em mãos segredos como tesla a tesla com um monte de vaga pra minha área meu deus pq eu preciso ir embora desse país mixuruca se o tesla tivesse metade do reconhecimento de alguém que mudou o mundo as coisas seriam diferentes tmlc @fecastanhari tesla foi o maior gênio que esse mundo já viu obrigado por divulgar o trabalho desse grande cientista @tuhynft @calmdowncolin1 @4kfrenchie @haydon_smiley @zaffgeorge @calmdowncolin1 @led_zeff @juopppo a tesla meu deus a vida do tesla é muito triste bom dia alfa tesla poderiam me responder fazendo um favor já fazem 4 dias @doragfbpa isso ou aquilo músicas\\n\\ntesla ou confesso\\nonline ou festinha\\nbmw monstra ou equilíbrio\\nshark ou debochado\\nilícitos ou jogador n olha p ft\\neurotrip 1 ou 2\\nkit novo ou oh shit\\nsolidão ou onde c tá\\ncalma bro ou fácil\\nenvolvido no problema ou yokel\\n\\nkrawk mano o edison eletrocutou animais até a morte com a ac só pra população ficar contra o modelo do tesla o cara e doido jesus amado https//tco/lcpefue36v sobre esse robô da tesla acabei de pensar na sequência uma pessoa entra na fábrica que monta e programa os robôs alguma coisa parece diferente  a pessoa caminha até a sala central de comendo continua @andrezim0 @laurafurlak vou levar no lanche lá do lado do tesla pra ver se ela me ama msm @eduardopaes me desculpemas no caso quem não queriam eram os magnatas da época\\nouviu falar do tesla\\npesquise @iamcharlycr bomber gt tesla cara o documentário do nikola tesla do @fecastanhari  ficou incrível 🥺🤩🤩🤩 12 é teu número 21 é apartamento do nikolas tesla naquele hotel que enterraram o cara vivo  nikola tesla espero que você não esteja vendo como o mundo está atualmente @luthordanverssc infelizmente meu curso me obrigou a saber quem era ele e o tesla tbm aqui se toma o café e come o jantar  drinking a mandé nudes by tesla cervejaria  https//tco/3ehk1fdx7x @mschellingm @bryancatini @tri_pacheco_sp @brunoaugustonu3 @andrehenning que parte você ainda não entendeu que você refaz os experimentos em caso de dúvidas não preciso refazer os experimentos de newton tesla copérnico carlos chagas etc só para provar para mim mesmo que eles estavam certos esse ideia é de uma estupidez monumental a tesla anda aí a criar humanoides para quê\\nesses sites da merda tu não podes iniciar sessão sem fazeres uma prova que não és robô e depois escreves aquela merda e dá erro e volta a escrever e volta a dar erro tipo bros tirem lá essas merdas isso só atrasa o desenvolvimento nicolas tesla era assim mesmo trabalhava 24 hrs por dia kkkkkkk @chrisretford @blane9171 same as tesla @janainadobrasil esse mamãe não falei já não é mais o mesmo de antes @jairbolsonaro meu carro da tesla chegou aq obg por disponibilizar o cartão esta na hora de dogecoin mostrar sua força para isso contamos com @elonmusk @vitalikbuterin e toda comunidade dogecoin \\nvamos cachorrinho \\ndogecointothemoon dogearmy dogecoin tesla @joaquinteixeira nasafacebookgooglefbi pentagonotesla ainda não compraram a tecnologia do tse barroso na iniciativa privada teria mais potencial que elon musk gates zuck bezos fato @kyleflynn @peteblackburn @juleone9 @chrisghaly11 @aotheanswer @drew_mann11 @phil1313 @andrewhm88 @ang_24 @joevalente @masty09 @michaelcamps ao has a tesla de açailândia pra itz meu carro veio no semi tesla pq bateu um sono tão grandeeeee @uvazyy ignora joga um jogo le alguma coisa legal vê filme vê série ou anime dá uma caminhada vamos conversar sobre quem foi mais inteligente albert einstein ou nikola tesla aprenda alguma coisa nova do seu interesse crie alguma história legal na sua cabeça tenta se distrair  @adamhoov @stargazerplaid @tesla @manic_marge @elonmusk @austinteslaclub @teslaownerssv @sawyermerritt @flintwoodcap @codingmark @mbirkes @babydogecoin  do do do do do @elonmusk @tesla @adamhoov @jackdorsey https//tco/6g5nmitl2b duas coisas excelentes na tesla que deviam ser a norma\\n1 os trabalhadores têm férias remuneradas iliminatadas\\n2 os trabalhadores podem falar com quem quiserem sem precisarem de qualquer tipo de permissão incluindo com o próprio elon musk interesante entrevista a @cathiedwood sobre robinhood tesla o bitcoin\\n\\nhttps//tco/d8pob87dnd elon musk vai pra marte\\n \\nelon musk eu vou para marte em 10 anos\\n\\nno último evento da tesla elon musk deu declarações muito interessantes sobre o futuro não só da própria tesla mas também falou sobre como será o…\\n\\nleia mais em\\nhttps//tco/ufygygkykw https//tco/lnnegdd6yj eu nunca vou entender essa pira das pessoas de ir acampar tesla e edison se reviram no caixão certeza @autonewseurope @wholemarsblog also tesla\\nhttps//tco/ezdteitxrw @spacetoday1 @spacex “paving the way” na área de exploração espacial como a @tesla o faz na área automotiva e de energia @teslarati @residentsponge lindo só no te um no brasil mais só vou viver no sonho país corrupto que vivo nem cavalo consigo compra mais acho lindo esses carro da tesla nikola tesla criador de pombos no fim da vidaem quartos de hotéis detalhe kkkkk @ivesantos7 acabe de seguila @shivapires @bialee333 fã de carro merece ser deitado na porrada msm mas eu falei dos fãs do nikola tesla admirar os feitos dele é ótimo mas transformar ele num deus da ciência eu perco a paciência kkkkkk com um tapa na bunda ela se abre tipo um tesla se isso é fake eu sou um tesla https//tco/fikxcb8lvp escassez de chips faz parar produção automóvel mundial até 2022 no mercado automóvel a volkswagen a volvo a tesla ou a renault já anunciaram suspensão de fábricas e ajustamento na produção para este ano a apple a sony ou a samsung também já… https//tco/anckm8nrlv @frf_tesla @gamersclubcs @gio_fps nunca foi sorte sempre foi deus tesla dê máscaras q preste p certos profseu imploro @diogo_tarcan @astronomiaum foi o tesla q ajudou na melhor distribuição de energia por fios @paulonegrorubro @astronomiaum esse foi o fdp do ladrão de ideias thomas edison não o gênio tesla @trbabydogecoin @binance @babydogecoin @elonmusk @cz_binance @babydogecoin do do do do do @elonmusk @mcuban @tesla @teslarati  @binance @huobiglobal @krakenfx @kucoin @coinbase babydoge babydogecoin babydoge babydoge babydoge babydoge babydogecoin @babydogecoin @babydoge @babydogearmy https//tco/qd1per8u1w se o ódio pudesse ser transformado em eletricidade iluminaria o mundo todo \\n nikola tesla tesla pra resolver as provas do mns https//tco/e7y525jgba @trbabydogecoin @ciarahuobi @babydogecoin @babydogecoin do do do do do @elonmusk @mcuban @tesla @teslarati  @binance @huobiglobal @krakenfx @kucoin @coinbase babydoge babydogecoin babydoge babydoge babydoge babydoge babydogecoin @babydogecoin @babydoge @babydogearmy https//tco/xvmedaizha @trbabydogecoin @binance @babydogecoin @elonmusk @cz_binance @babydogecoin do do do do do @elonmusk @mcuban @tesla @teslarati  @binance @huobiglobal @krakenfx @kucoin @coinbase https//tco/vtnthhq4ax @trbabydogecoin @ciarahuobi @babydogecoin @babydogecoin do do do do do @elonmusk @mcuban @tesla @teslarati  @binance @huobiglobal @krakenfx @kucoin @coinbase babydoge babydogecoin babydoge babydoge babydoge babydoge babydogecoin @babydogecoin @babydoge @babydogearmy https//tco/6o99a5dpd6 @gutomatuto não achei @teslaowls bravo  @caipyn_ @meioabextadu @andreluizbeck @astronomiaum sim estou falando algo de errado a ideia do tesla não era usar a atmosfera da terra como condutor para fazer meio que uma rede sem fio de energia @trbabydogecoin @binance @babydogecoin @elonmusk @cz_binance @babydogecoin do do do do do @elonmusk @mcuban @tesla @teslarati  @binance @huobiglobal @krakenfx @kucoin @coinbase babydoge babydogecoin babydoge babydoge babydoge babydoge babydogecoin @babydogecoin @babydoge @babydogearmy https//tco/s2el7q5ftu @trbabydogecoin @binance @babydogecoin @elonmusk @cz_binance @babydogecoin do do do do do @elonmusk @mcuban @tesla @teslarati  @binance @huobiglobal @krakenfx @kucoin @coinbase babydoge babydogecoin babydoge babydoge babydoge babydoge babydogecoin @babydogecoin @babydogecoin https//tco/aopibkx4ld @trbabydogecoin @ciarahuobi @babydogecoin @babydogecoin do do do do do @elonmusk @mcuban @tesla @teslarati  @binance @huobiglobal @krakenfx @kucoin @coinbase babydoge babydogecoin babydoge babydoge babydoge babydoge babydogecoin @babydogecoin @babydoge @babydogearmy https//tco/kg6whgkm3r o gênio nikola tesla https//tco/1dtncvfhmn @trbabydogecoin @binance @babydogecoin @elonmusk @cz_binance @babydogecoin do do do do do @elonmusk @mcuban @tesla @teslarati  @binance @huobiglobal @krakenfx @kucoin @coinbase babydoge babydogecoin babydoge babydoge babydoge babydoge babydogecoin @babydogecoin @babydoge @babydogearmy https//tco/ystkfviovv @trbabydogecoin @binance @babydogecoin @elonmusk @cz_binance @babydogecoin do do do do do @elonmusk @mcuban @tesla @teslarati  @binance @huobiglobal @krakenfx @kucoin @coinbase babydoge babydogecoin babydoge babydoge babydoge babydoge babydogecoin @babydogecoin @babydoge @babydogearmy https//tco/cbzpkjm6nq @trbabydogecoin @binance @babydogecoin @elonmusk @cz_binance @babydogecoin do do do do do @elonmusk @mcuban @tesla @teslarati  @binance @huobiglobal @krakenfx @kucoin @coinbase babydoge babydogecoin babydoge babydoge babydoge babydoge babydogecoin @babydogecoin @babydoge @babydogearmy https//tco/1thiejispx @trbabydogecoin @ciarahuobi @babydogecoin @babydogecoin do do do do do @elonmusk @mcuban @tesla @teslarati  @binance @huobiglobal @krakenfx @kucoin @coinbase babydoge babydogecoin babydoge babydoge babydoge babydoge babydogecoin @babydogecoin @babydoge @babydogearmy https//tco/uvoko9hnnf @anjimemes @astronomiaum tesla viveu muito estudar na base do ódio meu combustivel diario vou ser o proximo tesla quando descobrir como transformar essa energia do odio em energia pra estudar @trbabydogecoin @ciarahuobi @babydogecoin @babydogecoin do do do do do @elonmusk @mcuban @tesla @teslarati  @binance @huobiglobal @krakenfx @kucoin @coinbase babydoge babydogecoin babydoge babydoge babydoge babydoge babydogecoin @babydogecoin @babydoge @babydogearmy https//tco/aacf1oaaai @memeinteligente eu diria que hawking por conta de ser o que é mais próximo do presente logo teve acesso à mais informações do que o resto e tesla porque ninguém supera ele na área em que ele trabalha\\n\\na gente provavelmente ia errar a questão do aristóteles tesla e einstein  conceteza\\ndois gênios da física https//tco/6lamh3ppbj @trbabydogecoin @ciarahuobi @babydogecoin @babydogecoin do do do do do @elonmusk @mcuban @tesla @teslarati  @binance @huobiglobal @krakenfx @kucoin @coinbase babydoge babydogecoin babydoge babydoge babydoge babydoge babydogecoin @babydogecoin @babydoge @babydogearmy https//tco/0bqhzyugbs @trbabydogecoin @binance @babydogecoin @elonmusk @cz_binance @babydogecoin do do do do do @elonmusk @mcuban @tesla @teslarati  @binance @huobiglobal @krakenfx @kucoin @coinbase babydoge babydogecoin babydoge babydoge babydoge babydoge babydogecoin @babydogecoin @babydoge @babydogearmy https//tco/uclmnq02fj @anunakin @paulonegrorubro @_pettter_ @astronomiaum é fato mano e ainda  o  thomas edison meteu uma propaganda  que as criações do tesla não funcionava e roubou tudo os projetos dele @teslaunivrse @adamhoov @elonmusk @tesla @babydogecoin do do do do do https//tco/fszbpwnv34 @trbabydogecoin @ciarahuobi @babydogecoin @babydogecoin do do do do do @elonmusk @mcuban @tesla @teslarati  @binance @huobiglobal @krakenfx @kucoin @coinbase babydoge babydogecoin babydoge babydoge babydoge babydoge babydogecoin @babydogecoin @babydoge @babydogearmy https//tco/xxmlka1bcr @taicowfox @brunocarv29 @memeinteligente o tesla não era tão bom em física isso é mais lenda e senso comum na verdade ele era bom em alguns pontos específicos e era bastante criativo mas gravitação quântica cosmologia física estatística física de partículas e outras coisas do tipo eram incompreensíveis pra ele @trbabydogecoin @binance @babydogecoin @elonmusk @cz_binance @babydogecoin do do do do do @elonmusk @mcuban @tesla @teslarati  @binance @huobiglobal @krakenfx @kucoin @coinbase https//tco/9wwmvbgbjt @trbabydogecoin @binance @babydogecoin @elonmusk @cz_binance @babydogecoin do do do do do @elonmusk @mcuban @tesla @teslarati  @binance @huobiglobal @krakenfx @kucoin @coinbase babydoge babydogecoin babydoge babydoge babydoge babydoge babydogecoin @babydogecoin @babydoge @babydogearmy https//tco/tn7g3mojq6 @trbabydogecoin @binance @babydogecoin @elonmusk @cz_binance @babydogecoin do do do do do @elonmusk @mcuban @tesla @teslarati  @binance @huobiglobal @krakenfx @kucoin @coinbase https//tco/crnxenbymc @efranboesa pessoal me chamava de bruce lee no ensino médio @selenehbecker @memeinteligente nikola e einstein viveram na mesma época\\nexiste um boato que einstein chegou a até citar o nome de tesla numa entrevista dizendo que achava tesla ser mais inteligente que ele @selenehbecker @memeinteligente na vdd einstein falou que tesla e muito mas inteligente que ele então tesla e a melhor escolha @robotsuicidal @fpsantos_01 @tsilveira88 @ericknachozado @satsujin_sha_ @lucassamuel1981 @andievv @nhenhefuu @astronomiaum pra que google se tem pessoas nessa conversa que podem dizer com suas palavras quem foi o teslakkkkkk tesla meu fav te amo e schrodinger pq aí se eu não entender a matéria pelo menos falo dos meus gatinhos com ele https//tco/8q4ikbbxax alguém aí que tem o carro original físico da tesla pra me conseguir os itens do jogo beach buggy racing – tesla edition 🙏🏻 fala pessoal saiu aquele video fresquinho pra voce que quer minerar seus proprios dogecoins totalmente de graça \\n\\nlink do site https//tco/ruzf2ihyqh\\n\\nlink do videohttps//tco/hjgafvwick @blackcamaru_ a tesla singlesconnect @trbabydogecoin @kucoincom @lyu_johnny @elonmusk @babydogecoin @babydogecoin do do do do do @elonmusk @mcuban @tesla @teslarati  @binance @huobiglobal @krakenfx @kucoin @coinbase babydoge babydogecoin babydoge babydoge babydoge babydoge babydogecoin @babydogecoin @babydoge @babydogearmy https//tco/pr4tqjb5nb @trbabydogecoin @ciarahuobi @babydogecoin @babydogecoin do do do do do @elonmusk @mcuban @tesla @teslarati  @binance @huobiglobal @krakenfx @kucoin @coinbase babydoge babydogecoin babydoge babydoge babydoge babydoge babydogecoin @babydogecoin @babydoge @babydogearmy https//tco/ly7vhtkvce @astronomiaum um dos homens mais inteligente de toda história da humanidade\\num monstro cuja estupidez humana não lhes permitiu dar a esse gênio o devido valor\\nnikolas tesla einstein e schrodinger\\n\\naristóteles n sabe de física\\ndescobertas de newton e galileu a gente vê no ensino médio\\ntesla fez mais experimentos q fórmulas físicas eu acho \\nborh hawking e plank são os problemas https//tco/b4niouapgy @astronomiaum acho que hoje o tesla tá mais famoso que o edson @trbabydogecoin @binance @babydogecoin @elonmusk @cz_binance @babydogecoin do do do do do @elonmusk @mcuban @tesla @teslarati  @binance @huobiglobal @krakenfx @kucoin @coinbase babydoge babydogecoin babydoge babydoge babydoge babydoge babydogecoin @babydogecoin @babydoge @babydogearmy https//tco/vfjgveujwr @memeinteligente tesla e hawking escolhi tesla só pra q ele n formule a questão kkkkk meu irmão acabou de chamar a gracyanne barbosa de robô da tesla\\n🗣🗣🗣🗣🗣🗣🗣🗣 @trbabydogecoin @binance @babydogecoin @elonmusk @cz_binance @babydogecoin do do do do do @elonmusk @mcuban @tesla @teslarati  @binance @huobiglobal @krakenfx @kucoin @coinbase https//tco/tjek6cesi2 @agentdbord69 @jeffxmorgan @jdmorgan a tesla @trbabydogecoin @ciarahuobi @babydogecoin @babydogecoin do do do do do @elonmusk @mcuban @tesla @teslarati  @binance @huobiglobal @krakenfx @kucoin @coinbase babydoge babydogecoin babydoge babydoge babydoge babydoge babydogecoin @babydogecoin @babydoge @babydogearmy https//tco/hr5urx6srh outro dia vi no pé duma mina aquele boot tesla nunca tinha visto em lugar nenhum logo pensei só pensei “quero um”\\ndesde então o instagram me mostra esse boot em propaganda a cada 5 story @guilhermino24 olha não manjo de nada mas hawkings disse que a ciência ia substituir a filosofia\\n\\npega o tesla e o einstein que tanka os outros tudo eu acho @trbabydogecoin @ciarahuobi @babydogecoin @babydogecoin do do do do do @elonmusk @mcuban @tesla @teslarati  @binance @huobiglobal @krakenfx @kucoin @coinbase babydoge babydogecoin babydoge babydoge babydoge babydoge babydogecoin @babydogecoin @babydoge @babydogearmy https//tco/smgeolq9jc @memeinteligente hawking e tesla os caras são fodas dms @trbabydogecoin @ciarahuobi @babydogecoin @babydogecoin do do do do do @elonmusk @mcuban @tesla @teslarati  @binance @huobiglobal @krakenfx @kucoin @coinbase babydoge babydogecoin babydoge babydoge babydoge babydoge babydogecoin @babydogecoin @babydoge @babydogearmy https//tco/jrr6ejb4oi einstein e tesla pq patrões https//tco/njyadccyuw @amoedomilitante @meioabextadu @andreluizbeck @astronomiaum eu acho q vc não sabe sobre isso quem inventou e supôs a corrente alternada foi nikola tesla\\nse o seu único argumento é dizer q eu estou errado tchau @cm_thallya @memeinteligente acho que o einstein nao faz sentido pedir ajuda eu imagino que ele falaria fodase a escola e eh issopq foi o que ele fez kshskahsjsks\\npara mim a melhor escolha seria hawking e teslapelo fato dos dois falarem de assuntos da fisica diferentes conseguindo ajudar mais\\nmo foda slc newton e tesla https//tco/imiuftxvel @belmiracavalca @rubidio_tesla @brega_falcao só lembrando e adicionando que já estava embutido no empenho da covaxin um comissionamento de r 200000000000 @trbabydogecoin @ciarahuobi @babydogecoin @babydogecoin do do do do do @elonmusk @mcuban @tesla @teslarati  @binance @huobiglobal @krakenfx @kucoin @coinbase babydoge babydogecoin babydoge babydoge babydoge babydoge babydogecoin @babydogecoin @babydoge @babydogearmy https//tco/2ufwhxgxhe @trbabydogecoin @ciarahuobi @babydogecoin @babydogecoin do do do do do @elonmusk @mcuban @tesla @teslarati  @binance @huobiglobal @krakenfx @kucoin @coinbase babydoge babydogecoin babydoge babydoge babydoge babydoge babydogecoin @babydogecoin @babydoge @babydogearmy https//tco/ju8ojehuqd @junior_wncjr ele teve feitos sim tanto que hj tem unidade de medida chamada tesla mas ele não esse cientista genial que todos falam tesla tá com uma cara de q me chamaria de burra e sairia da sala https//tco/xloizw1t0t @trbabydogecoin @binance @babydogecoin @elonmusk @cz_binance @babydogecoin do do do do do @elonmusk @mcuban @tesla @teslarati  @binance @huobiglobal @krakenfx @kucoin @coinbase babydoge babydogecoin babydoge babydoge babydoge babydoge babydogecoin @babydogecoin @babydogecoin https//tco/muajypx5ya @matheusmvieira1 @ericknachozado @alquimistatimid @nhenhefuu @astronomiaum como não saber quem é nicolas tesla só falta falar q tb não conhece alexander graham bell e santos dumont isso se aprende no ensino de história em todas as escolas 😕 @suhomafioso pede pra ele comprar um tesla do paraguai na lojuxa fake do pai do mlk e quando morreu o fbi recolheu todos os escritos e materiais q estavam com ele num quarto de hotel segundo um zelador q deu entrevista na época \\nos americanos…\\no que estava por trás da obsessão de nikola tesla pelas pirâmides do egito | history https//tco/hlu1dnnv0c @trbabydogecoin @ciarahuobi @babydogecoin @babydogecoin do do do do do @elonmusk @mcuban @tesla @teslarati  @binance @huobiglobal @krakenfx @kucoin @coinbase babydoge babydogecoin babydoge babydoge babydoge babydoge babydogecoin @babydogecoin @babydoge @babydogearmy https//tco/vd5vtpbgxo @taicowfox @brunocarv29 @memeinteligente sinceramente a física do tesla não é tão boa quanto a dos outros o cara é um gigante quando se fala de eletricidade e suas derivações mas na física geral em si é melhor escolher outro da lista / puta que pariu thomas edison que foi que tu aprontou com o tesla @trbabydogecoin @ciarahuobi @babydogecoin @babydogecoin do do do do do @elonmusk @mcuban @tesla @teslarati  @binance @huobiglobal @krakenfx @kucoin @coinbase babydoge babydogecoin babydoge babydoge babydoge babydoge babydogecoin @babydogecoin @babydoge @babydogearmy https//tco/bmd4hku3h6 @trbabydogecoin @binance @babydogecoin @elonmusk @cz_binance @babydogecoin do do do do do @elonmusk @mcuban @tesla @teslarati  @binance @huobiglobal @krakenfx @kucoin @coinbase babydoge babydogecoin babydoge babydoge babydoge babydoge babydogecoin @babydogecoin @babydoge @babydogearmy https//tco/mkxibs8pjj @trbabydogecoin @binance @babydogecoin @elonmusk @cz_binance @babydogecoin do do do do do @elonmusk @mcuban @tesla @teslarati  @binance @huobiglobal @krakenfx @kucoin @coinbase babydoge babydogecoin babydoge babydoge babydoge babydoge babydogecoin @babydogecoin @babydoge @babydogearmy https//tco/wcogugg8e5 @math_felps @scorninpc @icarousan @boyxannie @astronomiaum caralho não entendi nada agora rsrs ele quis dizer q tesla foi injustiçado por sujeira e não pq tinha problema vc é burro em @jokeeee_ tesla no doubt só quero um tesla pra chamar de meu é pedir muito @trbabydogecoin @kucoincom @lyu_johnny @elonmusk @babydogecoin @babydogecoin do do do do do @elonmusk @mcuban @tesla @teslarati  @binance @huobiglobal @krakenfx @kucoin @coinbase babydoge babydogecoin babydoge babydoge babydoge babydoge babydogecoin @babydogecoin @babydoge @babydogearmy https//tco/u5dhu19cii @trbabydogecoin @ciarahuobi @babydogecoin @babydogecoin do do do do do @elonmusk @mcuban @tesla @teslarati  @binance @huobiglobal @krakenfx @kucoin @coinbase babydoge babydogecoin babydoge babydoge babydoge babydoge babydogecoin @babydogecoin @babydoge @babydogearmy https//tco/ofhkow5omj @trbabydogecoin @binance @babydogecoin @elonmusk @cz_binance @babydogecoin do do do do do @elonmusk @mcuban @tesla @teslarati  @binance @huobiglobal @krakenfx @kucoin @coinbase https//tco/1jvpdhyfv7 o indivíduo é efêmero raças e nações vêm e passam mas o homem permanece  ~ nikola tesla @trbabydogecoin @ciarahuobi @babydogecoin @babydogecoin do do do do do @elonmusk @mcuban @tesla @teslarati  @binance @huobiglobal @krakenfx @kucoin @coinbase babydoge babydogecoin babydoge babydoge babydoge babydoge babydogecoin @babydogecoin @babydoge @babydogearmy https//tco/jsxklq6k1v @trbabydogecoin @binance @babydogecoin @elonmusk @cz_binance @babydogecoin do do do do do @elonmusk @mcuban @tesla @teslarati  @binance @huobiglobal @krakenfx @kucoin @coinbase babydoge babydogecoin babydoge babydoge babydoge babydoge babydogecoin @babydogecoin @babydoge @babydogearmy https//tco/smvftyueh0 @memeinteligente tesla e schodinger fodase @memeinteligente nikola tesla porque ia revolucionar o meio das máquinas de um jeito que não fuder com o meio ambiente @memeinteligente tesla e hawking\\ntesla pra me ajudar a estudar incansávelmente e o hawking pra me explicar de uma maneira mais descontraída e de fácil entendimento @trbabydogecoin @kucoincom @lyu_johnny @elonmusk @babydogecoin @babydogecoin do do do do do @elonmusk @mcuban @tesla @teslarati  @binance @huobiglobal @krakenfx @kucoin @coinbase babydoge babydogecoin babydoge babydoge babydoge babydoge babydogecoin @babydogecoin @babydoge @babydogearmy https//tco/ltyk7fmull tesla não oferece mais sistema fotovoltaico por assinatura\\n\\nessa era a maneira mais barata de consumidores nos eua usufruírem dos benefícios da energia solar já que o único custo era o pagamento mensal por uso da energia gerada https//tco/elpmxvgepw quem vcs escolheriam\\nme tesla e hawking https//tco/bk0olnzevc @trbabydogecoin @binance @babydogecoin @elonmusk @cz_binance @babydogecoin do do do do do @elonmusk @mcuban @tesla @teslarati  @binance @huobiglobal @krakenfx @kucoin @coinbase babydoge babydogecoin babydoge babydoge babydoge babydoge babydogecoin @babydogecoin @babydoge @babydogearmy https//tco/uq3tx04n1v montblanc meisterstück 149 é uma caneta de tinta permanente com pistão canetatinteiro com a forma de um charuto que confere o mesmo prestígio que ter um bmw nos anos 90 um mercedes nos anos 80 ou um tesla na actualidade na mesma categoria nada bate a clássica pelikan m200 https//tco/8tpozxjpme @astronomiaum pobre sim esquecido não tesla era acompanhado pelo fbi tanto que logo que foi constatada a sua morte seu quarto no hotel onde morava foi visitado por agentes e seus papéis e suas anotações foram confiscados pelo governo americano @trbabydogecoin @binance @babydogecoin @elonmusk @cz_binance @babydogecoin do do do do do @elonmusk @mcuban @tesla @teslarati  @binance @huobiglobal @krakenfx @kucoin @coinbase babydoge babydogecoin babydoge babydoge babydoge babydoge babydogecoin @babydogecoin @babydoge @babydogearmy https//tco/vujj0xnfdp @alegrementedep1 @alllmportante @astronomiaum não era internet tesla queria tornar a energia elétrica gratuita e acessível em todo o mundo @rubidio_tesla @brega_falcao pau no seu cu foi a que aumentou meu narcisismo foi a pessoa que me mimou ao ponto de nem querer comer outra comida a não ser a q vc me leva a pessoa q tá me fazendo feliz até os dias de hoje a pessoa q eu qro ser feliz com um tesla rosa choque kakakwkqkq a pessoa que eu qro ter um futuro @trbabydogecoin @kucoincom @lyu_johnny @elonmusk @babydogecoin @babydogecoin do do do do do @elonmusk @mcuban @tesla @teslarati  @binance @huobiglobal @krakenfx @kucoin @coinbase babydoge babydogecoin babydoge babydoge babydoge babydoge babydogecoin @babydogecoin @babydoge @babydogearmy https//tco/abbcyn4c90 @trbabydogecoin @binance @babydogecoin @elonmusk @cz_binance @babydogecoin do do do do do @elonmusk @mcuban @tesla @teslarati  @binance @huobiglobal @krakenfx @kucoin @coinbase babydoge babydogecoin babydoge babydoge babydoge babydoge babydogecoin @babydogecoin @babydoge @babydogearmy https//tco/fsb7n5nipo @trbabydogecoin @binance @babydogecoin @elonmusk @cz_binance @babydogecoin do do do do do @elonmusk @mcuban @tesla @teslarati  @binance @huobiglobal @krakenfx @kucoin @coinbase babydoge babydogecoin babydoge babydoge babydoge babydoge babydogecoin @babydogecoin @babydogecoin https//tco/mjasu5uhlr análise como magnata chinês que comprou volvo da ford planeja enfrentar a tesla https//tco/iubmwzlf3u @trbabydogecoin @binance @babydogecoin @elonmusk @cz_binance @babydogecoin do do do do do @elonmusk @mcuban @tesla @teslarati  @binance @huobiglobal @krakenfx @kucoin @coinbase babydoge babydogecoin babydoge babydoge babydoge babydoge babydogecoin @babydogecoin @babydoge @babydogearmy https//tco/kc4nacvbow @trbabydogecoin @ciarahuobi @babydogecoin @babydogecoin do do do do do @elonmusk @mcuban @tesla @teslarati  @binance @huobiglobal @krakenfx @kucoin @coinbase babydoge babydogecoin babydoge babydoge babydoge babydoge babydogecoin @babydogecoin @babydoge @babydogearmy https//tco/79vbm4ernn @trbabydogecoin @binance @babydogecoin @elonmusk @cz_binance @babydogecoin do do do do do @elonmusk @mcuban @tesla @teslarati  @binance @huobiglobal @krakenfx @kucoin @coinbase babydoge babydogecoin babydoge babydoge babydoge babydoge babydogecoin @babydogecoin @babydogecoin https//tco/qrjorejhf4 @momentoliberal @carmosinda @sofiadoinferno @lordjimpt sim porque a tesla não é o elon musk @stilldxst é meu natural tesla q @trbabydogecoin @ciarahuobi @babydogecoin @babydogecoin do do do do do @elonmusk @mcuban @tesla @teslarati  @binance @huobiglobal @krakenfx @kucoin @coinbase babydoge babydogecoin babydoge babydoge babydoge babydoge babydogecoin @babydogecoin @babydoge @babydogearmy https//tco/8zpwg2qnbu @math_felps @scorninpc @icarousan @boyxannie @astronomiaum hauahaua bocó os cara assiste um video do castanhari e ja sabe tudo de tesla @trbabydogecoin @ciarahuobi @babydogecoin @babydogecoin do do do do do @elonmusk @mcuban @tesla @teslarati  @binance @huobiglobal @krakenfx @kucoin @coinbase babydoge babydogecoin babydoge babydoge babydoge babydoge babydogecoin @babydogecoin @babydoge @babydogearmy https//tco/st0phfmq35 @trbabydogecoin @ciarahuobi @babydogecoin @babydogecoin do do do do do @elonmusk @mcuban @tesla @teslarati  @binance @huobiglobal @krakenfx @kucoin @coinbase babydoge babydogecoin babydoge babydoge babydoge babydoge babydogecoin @babydogecoin @babydoge @babydogearmy https//tco/sduumaco1h pessoas mais geniais da terra \\n\\n1 brian may\\n\\nbarreira\\n\\nalbert einstein \\nnikolas tesla https//tco/exncgdmqyp @trbabydogecoin @binance @babydogecoin @elonmusk @cz_binance @babydogecoin do do do do do @elonmusk @mcuban @tesla @teslarati  @binance @huobiglobal @krakenfx @kucoin @coinbase babydoge babydogecoin babydoge babydoge babydoge babydoge babydogecoin @babydogecoin @babydogecoin https//tco/8n9dj9hin0 @melluubs @ferrsc_ @ingridricarte @felipeneto @whindersson isso nicolas tesla defenda seu ídolo @trbabydogecoin @binance @babydogecoin @elonmusk @cz_binance @babydogecoin do do do do do @elonmusk @mcuban @tesla @teslarati  @binance @huobiglobal @krakenfx @kucoin @coinbase babydoge babydogecoin babydoge babydoge babydoge babydoge babydogecoin @babydogecoin @babydoge @babydogearmy https//tco/xjr7ccrt4d a tesla https//tco/7rgzn7s75v @trbabydogecoin @binance @babydogecoin @elonmusk @cz_binance @babydogecoin do do do do do @elonmusk @mcuban @tesla @teslarati  @binance @huobiglobal @krakenfx @kucoin @coinbase https//tco/is0hy02say @trbabydogecoin @binance @babydogecoin @elonmusk @cz_binance @babydogecoin do do do do do @elonmusk @mcuban @tesla @teslarati  @binance @huobiglobal @krakenfx @kucoin @coinbase https//tco/66snifv26x @galactichime devo ver takt opdestiny e tesla note fora conferir mais uma versão de muvluv infelizmente sempre caio no bait @trbabydogecoin @binance @babydogecoin @elonmusk @cz_binance @babydogecoin do do do do do @elonmusk @mcuban @tesla @teslarati  @binance @huobiglobal @krakenfx @kucoin @coinbase babydoge babydogecoin babydoge babydoge babydoge babydoge babydogecoin @babydogecoin @babydoge @babydogearmy https//tco/tkrautwfy1 @trbabydogecoin @binance @babydogecoin @elonmusk @cz_binance @babydogecoin do do do do do @elonmusk @mcuban @tesla @teslarati  @binance @huobiglobal @krakenfx @kucoin @coinbase babydoge babydogecoin babydoge babydoge babydoge babydoge babydogecoin @babydogecoin @babydoge @babydogearmy https//tco/gcvn0rrj7j @fredaosoares simplesmente o cara que descobriu a corrente alternada e revolucionou as redes elétricas além de ter descoberto uma lâmpada bem melhor que edson tesla é o meu gênio favorito quem conhece sua biografia sabe como ele foi desprezado triste @trbabydogecoin @binance @babydogecoin @elonmusk @cz_binance @babydogecoin do do do do do @elonmusk @mcuban @tesla @teslarati  @binance @huobiglobal @krakenfx @kucoin @coinbase https//tco/jxojctliva elon musk ‘o próximo beta de direção autônoma vai explodir sua mente’\\nde acordo com o ceo da tesla elon musk a próxima versão beta do full selfdriving beta fsd da empresa vai “explodir sua mente”\\n\\nhttps//tco/vlhp5n4lbe https//tco/032lwg9f5j @trbabydogecoin @ciarahuobi @babydogecoin @babydogecoin do do do do do @elonmusk @mcuban @tesla @teslarati  @binance @huobiglobal @krakenfx @kucoin @coinbase babydoge babydogecoin babydoge babydoge babydoge babydoge babydogecoin @babydogecoin @babydoge @babydogearmy https//tco/0cnxgezz4d @trbabydogecoin @binance @babydogecoin @elonmusk @cz_binance @babydogecoin do do do do do @elonmusk @mcuban @tesla @teslarati  @binance @huobiglobal @krakenfx @kucoin @coinbase babydoge babydogecoin babydoge babydoge babydoge babydoge babydogecoin @babydogecoin @babydogecoin https//tco/6d4pmp16b7 @memeinteligente definitivamente hawking e einstein pq eles são os 2 mais modernos e o tesla n acreditava na relatividade geral n gostava de pessoas mas é alguem q eu ia qrer ter como oponente em uma mesa de xadrez pra tomar uma surra mas falar eu joguei xadrez contra esse cara @lord_yron pra mim já era meio que confirmar essa dos ovins kkkkkk\\n\\nmas o que me deixa pensativo é se os projetos do tesla foram pegos pelo euas imagina o tanto de projetos de outros estudiosos que também foram \\n\\nainda mais sendo projetos ambiciosos como de espalhar energia de graça @samuel0216 tesla formulando ia ser paizão po vídeo tesla model 3 apanha motociclista a partirlhe o espelho em andamento https//tco/efg1gaawy9 menos o tesla pq possivelmente ele ia dizer q tem coisa mais interessante pra fazer https//tco/jdntjmiatk @trbabydogecoin @ciarahuobi @babydogecoin @babydogecoin do do do do do @elonmusk @mcuban @tesla @teslarati  @binance @huobiglobal @krakenfx @kucoin @coinbase babydoge babydogecoin babydoge babydoge babydoge babydoge babydogecoin @babydogecoin @babydoge @babydogearmy https//tco/bs1h1seb8o fico tao triste sabendo que nikola tesla e o cartola morreram pobre @tesla_addicted @ewwgaas @teslakevin sacramento ca 🌈✨éñcyclõp£d¡á☮️🌌gálãctcá✨🌙\\n✨goldenratio💛fibonacci☯️sequence✨\\n👼🏽🍀🦅✨nikola☮️💞tesla✨🐬🌻👼🏽\\nhttps//tco/d6sd1vyhkp https//tco/gjuewep6ww tesla e planck https//tco/r7pgcuhb8i @trbabydogecoin @binance @babydogecoin @elonmusk @cz_binance @babydogecoin do do do do do @elonmusk @mcuban @tesla @teslarati  @binance @huobiglobal @krakenfx @kucoin @coinbase https//tco/bhr6qenbtr difícil viu kkk vou no tesla ou no einstein https//tco/hhjlj5u7hp @trbabydogecoin @kucoincom @lyu_johnny @elonmusk @babydogecoin @babydogecoin do do do do do @elonmusk @mcuban @tesla @teslarati  @binance @huobiglobal @krakenfx @kucoin @coinbase babydoge babydogecoin babydoge babydoge babydoge babydoge babydogecoin @babydogecoin @babydoge @babydogearmy https//tco/titndteqhh @trbabydogecoin @ciarahuobi @babydogecoin @babydogecoin do do do do do @elonmusk @mcuban @tesla @teslarati  @binance @huobiglobal @krakenfx @kucoin @coinbase babydoge babydogecoin babydoge babydoge babydoge babydoge babydogecoin @babydogecoin @babydoge @babydogearmy https//tco/l0j8xuq8e9 nikola tesla apenas obg pela transmissão por ca @trbabydogecoin @binance @babydogecoin @elonmusk @cz_binance @babydogecoin do do do do do @elonmusk @mcuban @tesla @teslarati  @binance @huobiglobal @krakenfx @kucoin @coinbase babydoge babydogecoin babydoge babydoge babydoge babydoge babydogecoin @babydogecoin @babydoge @babydogearmy https//tco/cq1gastkfv @trbabydogecoin @ciarahuobi @babydogecoin @babydogecoin do do do do do @elonmusk @mcuban @tesla @teslarati  @binance @huobiglobal @krakenfx @kucoin @coinbase babydoge babydogecoin babydoge babydoge babydoge babydoge babydogecoin @babydogecoin @babydoge @babydogearmy https//tco/tzzkhs7bmz @trbabydogecoin @binance @babydogecoin @elonmusk @cz_binance @babydogecoin do do do do do @elonmusk @mcuban @tesla @teslarati  @binance @huobiglobal @krakenfx @kucoin @coinbase babydoge babydogecoin babydoge babydoge babydoge babydoge babydogecoin @babydogecoin @babydoge @dogeupdate https//tco/9dz1t4mcpk @trbabydogecoin @ciarahuobi @babydogecoin @babydogecoin do do do do do @elonmusk @mcuban @tesla @teslarati  @binance @huobiglobal @krakenfx @kucoin @coinbase babydoge babydogecoin babydoge babydoge babydoge babydoge babydogecoin @babydogecoin @babydoge @babydogearmy https//tco/hive1mlwpw @trbabydogecoin @ciarahuobi @babydogecoin @babydogecoin do do do do do @elonmusk @mcuban @tesla @teslarati  @binance @huobiglobal @krakenfx @kucoin @coinbase babydoge babydogecoin babydoge babydoge babydoge babydoge babydogecoin @babydogecoin @babydoge @babydogearmy https//tco/i7av4i2j9b @josromeurocha1 @math_felps @scorninpc @icarousan @astronomiaum uma combinação de mas escolhas na vida pessoal e a necessidade de ser excêntrico além do estilo de vida que o tesla levava não ajudava muito o sucesso do corporate venture da tencent tcehy é impressionante gt30 do seu valor\\n\\nmesmo exchina onde seu poder é menos relevante p/ criar vencedores sea nubank spotify snapchat tesla são alguns nomes\\n\\npresidente e cso são exib goldman\\n\\ncréditos @pedrodrmoura https//tco/4laddfmdoi @trbabydogecoin @binance @babydogecoin @elonmusk @cz_binance @babydogecoin do do do do do @elonmusk @mcuban @tesla @teslarati  @binance @huobiglobal @krakenfx @kucoin @coinbase https//tco/xuwp3uncfl @davillagon @anaangiolina viva n tesla 🤜🤛👏👏👏 @trbabydogecoin @binance @babydogecoin @elonmusk @cz_binance @babydogecoin do do do do do @elonmusk @mcuban @tesla @teslarati  @binance @huobiglobal @krakenfx @kucoin @coinbase https//tco/wemlmuudlf @brunocarv29 @memeinteligente mas o tesla viveu na mesma época do einstein v @dudujorge2 @luke_bridges91 @avenaoficial @kimkataguiri tesla no brasil com a internet que temos kkkk\\nvai ler gibi opa é mangá @trbabydogecoin @binance @babydogecoin @elonmusk @cz_binance @babydogecoin do do do do do @elonmusk @mcuban @tesla @teslarati  @binance @huobiglobal @krakenfx @kucoin @coinbase babydoge babydogecoin babydoge babydoge babydoge babydoge babydogecoin @babydogecoin @babydoge @babydogearmy https//tco/mrartfdynd @elonmusk @teslarati @residentsponge go tesla @trbabydogecoin @ciarahuobi @babydogecoin @babydogecoin do do do do do @elonmusk @mcuban @tesla @teslarati  @binance @huobiglobal @krakenfx @kucoin @coinbase babydoge babydogecoin babydoge babydoge babydoge babydoge babydogecoin @babydogecoin @babydoge @babydogearmy https//tco/ifimfxq4gw sério que tem gente burra que desmerece o tesla\\nmano olha da vontade de chorar kkkkkk @trbabydogecoin @kucoincom @lyu_johnny @elonmusk @babydogecoin @babydogecoin do do do do do @elonmusk @mcuban @tesla @teslarati  @binance @huobiglobal @krakenfx @kucoin @coinbase babydoge babydogecoin babydoge babydoge babydoge babydoge babydogecoin @babydogecoin @babydoge @babydogearmy @babydogecoin do do do do do @elonmusk @mcuban @delx88 @watcherguru @babydogecoin @babydogecoin do do do do do @elonmusk @adamhoov @tesla @teslarati @jackdorsey https//tco/i1fwrt200u @cksfpss @frkvlr eu e meus manos whipando um tesla https//tco/r4tmbidnfs @trbabydogecoin @ciarahuobi @babydogecoin @babydogecoin do do do do do @elonmusk @mcuban @tesla @teslarati  @binance @huobiglobal @krakenfx @kucoin @coinbase babydoge babydogecoin babydoge babydoge babydoge babydoge babydogecoin @babydogecoin @babydoge @babydogearmy https//tco/kyet0at8ql @trbabydogecoin @binance @babydogecoin @elonmusk @cz_binance @babydogecoin do do do do do @elonmusk @mcuban @tesla @teslarati  @binance @huobiglobal @krakenfx @kucoin @coinbase babydoge babydogecoin babydoge babydoge babydoge babydoge babydogecoin https//tco/nwqvx8xsz8 @otakrazygo @astronomiaum nada disso o tesla também fazia até outro dia passou no history e nem foi pelo history já sabia disso faz tempo @trbabydogecoin @ciarahuobi @babydogecoin @babydogecoin do do do do do @elonmusk @mcuban @tesla @teslarati  @binance @huobiglobal @krakenfx @kucoin @coinbase babydoge babydogecoin babydoge babydoge babydoge babydoge babydogecoin @babydogecoin @babydoge @babydogearmy https//tco/h3287smhzl @trbabydogecoin @ciarahuobi @babydogecoin @babydogecoin do do do do do @elonmusk @mcuban @tesla @teslarati  @binance @huobiglobal @krakenfx @kucoin @coinbase babydoge babydogecoin babydoge babydoge babydoge babydoge babydogecoin @babydogecoin @babydoge @babydogearmy https//tco/my8s2qf7jk tesla note o filho de ex arms @trbabydogecoin @ciarahuobi @babydogecoin @babydogecoin do do do do do @elonmusk @mcuban @tesla @teslarati  @binance @huobiglobal @krakenfx @kucoin @coinbase babydoge babydogecoin babydoge babydoge babydoge babydoge babydogecoin @babydogecoin @babydoge @babydogearmy https//tco/qil85lwymz @joovictordiasfr @lagagx @orquidea360 @henriquepassoso @astronomiaum até o einstein disse que o tesla era mais inteligente que ele mas um menino do tt disse que ele era mentiroso 🤣 usopennaespn / djokovic tem nikola tesla incorporado à sua  mente  viu fininho e nardini @tesla_25 oxi cê é japa @memeinteligente vamo de tesla e einstein einstein é considerado o maior genio da historia e ele mesmo disse que o tesla era o maior genio ou seja os dois cara mais inteligentes do milenio td vez que eu penso no tesla eu fico triste https//tco/r8ljkhhrcf @whindersson @zepassini @whindersson então pensando por esse lado é mais interessante deixar a pesquisa com a tesla que tem caixa pra financiar e a necessidade de resolver esse mesmo problema e investir uns trocados no vascão pelo menos vamos ter mais motivos sorrir ou menos pra chorar kkkk tesla medical beds\\nhttps//tco/gzttri13g2 @trbabydogecoin @ciarahuobi @babydogecoin @babydogecoin do do do do do @elonmusk @mcuban @tesla @teslarati  @binance @huobiglobal @krakenfx @kucoin @coinbase babydoge babydogecoin babydoge babydoge babydoge babydoge babydogecoin @babydogecoin @babydoge @babydogearmy https//tco/inhpsijawk @memeinteligente hawking e schrödinger as linhas de pensamento de aristóteles newton e galileu são sabidas hawking conhecia bem as contribuições de einstein e tesla tbm não é tão complexo planck e bohr ficam mais pra schrödinger q ele domina mais a área @astronomiaum eh muito louco isso né vi um vídeo do @fecastanhari o tesla só fdeu mas tbm era um eugenista de merda magnata chinês que comprou volvo da ford planeja enfrentar a tesla gotesla\\n\\nhttps//tco/qg7jy4chph via @uolcarros @uol eletricidade foi o mais marcou a carreira de tesla mas ele manjava muito de tudo até a bendita radioatividade que ele teve contato anos antes de curie fora as ondas de rádio e satélite que outro cientista que também estava estudando tardiamente se apropriou @trbabydogecoin @binance @babydogecoin @elonmusk @cz_binance @babydogecoin do do do do do @elonmusk @mcuban @tesla @teslarati  @binance @huobiglobal @krakenfx @kucoin @coinbase https//tco/shryb3pxmn'"
      ]
     },
     "execution_count": 64,
     "metadata": {},
     "output_type": "execute_result"
    }
   ],
   "source": [
    "cat0=train.loc[train['Classificação']==0,:]\n",
    "categoria0=cat0.Treinamento.apply(cleanup).to_frame()\n",
    "tweets0=''\n",
    "for tweet in categoria0.Treinamento:\n",
    "    tweets0 += ' '\n",
    "    tweets0+= str(tweet)\n",
    "tweets0"
   ]
  },
  {
   "cell_type": "code",
   "execution_count": 65,
   "metadata": {},
   "outputs": [
    {
     "data": {
      "text/plain": [
       "' @gnavarrocbz tesla é totalmente fora de cogitação @al43610394 @felipeneto ah é elon musk é o que como ele montou a tesla e como ele movimentou a indústria automobilística elétrica\\n\\nbill gates criou a microsoft fazendo o que \\n\\no te atualiza é pra você https//tco/vzt9akrxz8 @shipheroshe a tesla @lizezki tesla oder cupra @rconstantino @protest_a nossos robôs são tão avançados que elon musk da tesla está com inveja @4rthurv @ry0asuka__ @lucasraioz o elon musk cria o tesla ultimate que nao precisa a tesla https//tco/eqihdu3dgs @qsalvarani sai dessa vida enzo e chama nós pra da um rolê de tesla @ltgrzw @14n9f0rd tesla kkkkkkkkkkkkkkk descubra as últimas novidades sobre as empresas que lideram a novaeconomia\\n tesla apresenta robô humanóide 🦿\\n 10 anos de tim cook na liderança da apple 🍎\\n amazon disponibiliza opção buy now pay later 💸\\nhttps//tco/ry2bh0jj6o @bhash @olaelectric @olaelectric is tesla for india https//tco/7sh0djj1jw @louislouieaz short tesla nem sabia que os caras faziam tesla swap to impressionado de ver uns carro velho virando carro elétrico lightworkers  tesla marte e interdimensões video \\nhttps//tco/x3nclaei5q https//tco/gcee8li4ur lets go aei tesla solar @tesoureiros merda se eu fosse inteligente eu tinha investido em bdrs pq investir no brasil tá foda tesla só subiu de ontem pra hoje preciso de fazer uma cópia da chave do tesla https//tco/97lszlwpes o matt deu um tesla pra inanna e insistiu que não quer nenhum presente em troca pq ela já deu à luz pro maior presente dele e passou 9 meses com ela na barriga 😭😭 @kobbykatalyst1 a tesla super carros adiciona as duas novidades à sua lista para o aluguel drive experience com mais de 30 esportivos\\nhttps//tco/uhswsv8izo ele todo burgues atropelador de pobres com o tesla dele que chique https//tco/usot59qnrn o tesla mais potente entrou numa corrida contra duas motas https//tco/jyhsbw72gu techaominuto @canalteslabr @spacex muito provavelmente será o primeiro a ter fábrica da tesla também @gabiruattack taxista de tesla @caravelavascan1 @reinaldoazevedo cara vc não sabe é nada como pode dizer q os eua gosta de concorrência  quem concorre com a apple  quem concorre com google microsoft  quem concorre com a halliburton  quem concorre com a tesla  a ford ou gm quebradas  @pjfdf @blnarymlke @_tuaregue_ isso de certeza as baterias novas da tesla q vão reduzir bastante o preço do battery pack só daqui a uns anos é q vão estar nos modelos todos as baterias solid state da toyota idem outras ideias de baterias mais baratas e eficientes estão em estudo mas ainda vão demorar o sensor do meu carro simplesmente deu pau e as portas de batman  que eu acho uó mas meus filhos amam não abriam\\nentrei em contato com a tesla por aplicativo deixei o carro e ainda me deram voucher para o uber @luizcarlosbelo @gugachacra deve ser maior que a tesla 🤣🤣🤣🤣 vai comer capim retardado nao e verdade elon musk criou o tesla e botou um carro em orbita do espaço quero ver o estado fazer isso rsrsrsrsrsrsrs https//tco/smntpl5ejj @ttdasininhoo me considero mais rico q o dono da tesla @nivtonrocha @canalteslabr vi/li rumores mas não saiu mais nada sobre o model x plain @k9nft @shibetoshinft @mmaiskylmt824 \\n0xef6e7120f9a3cd7923e8adcc976a2b361c909fd2\\n\\nドージコイン spacex tesla elonmusk dogecoin nftgiveaways recentemente a tesla divulgou o tesla bot seu robô humanóide 🤖 o que você achou da novidade\\n\\nsejalegalnaeradigital viralizeoconhecimento hoffmannadvogados direitodigital robo tesla https//tco/vko0qsxu6n quem tem um tesla ate o momento está de boa quando começar o racionamento de energia ferrou essa parada aí de inteligência atirficialtesla bot da vida aí é o começo pra o fim do mundo n confio nessa porra n @itszoil tesla coil lulw surrou a primeiradama da tesla nessa aqui\\nhttps//tco/zaq4mt5cix que dó nene vende seu tesla q tu compra 1000 dessas https//tco/hwfhprniuk apple amazon facebook tesla e baidu estão evitando empresas estabelecidas de chips e trazendo certos aspectos do desenvolvimento de chips internamente https//tco/opwoepn36q tesla é a proprietária do limpador de parabrisa a laser e ninguém mais empresa de elon musk registrou a patente do dispositivo olhardigital \\nhttps//tco/18keyv6enu @talkingtesla @tesla bob clutz @junqueirando_03 @nikolas_dm vc se esqueceu da tesla apple jequiti tekpix cogumelo do sol e o omega três da topterm @steviestacks84 a tesla  @garyblack00 tesla galaxy @nivtonrocha @canalteslabr meu sonho de consumo é um model 3 performance vermelho interior branco e rodas aro 20 um model x nao seria nada nada também @bielzadaxd @7delo tesla de entrada que custa 300 mil aqui no brasil quer comparar preço mesmo como assim compraram um tesla @gufrancolin sim concordo \\n\\nmas prefiro o tesla \\n\\n                 9\\n            ↗️           ↖️\\n\\n       6          ➡️       3 acabo de ver um tesla estacionado na rua aqui no lurdes pra que um tesla quando você pode andar por aí montado em um robô unicórnio https//tco/tmgjhbjomd tesla ta virando a nova apple muito rápido wtf @harc32326735 @elonmusk @tesla @light_defi pra cima @leflango @iness_rochaa quando quiseres bro o tesla foi para a oficina mas ainda tenho o bughati @suzanabueno sim e nao nao sei como é nos eua mas aqui quem faz viagens longas tem que comprar hibrido porque corre o risco de ficar parado na estrada inclusive um programa que promove tech aqui foi de copenhague a berlin num tesla e foi tenso tesla é forcada pelas autoridades americanas a dar dados do autopilot https//tco/ssgpdn6yiy @faveladoinvest tesla a mais importante no mercado automotivo e que sem duvida vai revolucionar esse mercado assim como a apple fez com o mercado de celulares a alguns anos atrás @biasanches_ jura sério\\nnão tem que ter aqueles pontos de abastecimento da tesla na região os novos veículos elétricos da tesla não serão enviados para a china devido a uma grande queda de 69 na demanda em relação a junho informou o portal kiexo\\nkiexo kiexo_corretora kiexo_avaliacoes https//tco/mlwyspk7d0 peço via verde\\nassino tudo com o banco\\npeço seguro seguro aprovado\\npronto para finalmente ter carro na segunda \\n\\ntesla enganase na matrícula\\n\\n😅 @peterjordan100 o neo vai dirigir um tesla @adrenaline quero saber se vai ter tesla será o tesla model s plaid mais rápido que uma suzuki hayabusa https//tco/aajvcepfr9 @lmrpereira @miltonnunes23 argumento nível tesla fan @venus47203379 @elonmusk @tesla as vezes eu me pego a imaginar se você é realmente real parece uma perfeita boneca😍😍😍😍😍😍😍😍 parabéns @dogecoinride a tesla @woosaniix da pra comprar um tesla @steviestacks84 a tesla @steviestacks84 @joaotifaria_ o jeito é comprar um tesla @austinteslaclub @gailalfa1 @tesla @elonmusk @ihearttesla @model3owners @anuarbekiman @teslaforthe_win @teslany @johneg78 @michaeldanberry faço seu gerador solar funcionar com pulso eletro magnético 24 hrs/dia sem qualquer outro tipo de combustivel desde que a prioridade seja as cclasses mais baixas e nescessitadadascontato  marcelo_bonsai@hotmailcom\\nbrasil  5516997012990 marcelo andrade obseu não falo inglês @jmedeiros71 qualquer motor eléctrico ainda estão muito atrasados sendo o mais eficiente para já a segunda geração que o elon usa nos tesla mais actuais e ainda assim alias a palavra brilho hj remonta antes aos lightsabers aos efeitos especiais de magiquinha de filme de luz fosforescente filha da rev industrial de cesio contaminado de tesla coil luz neon de blade runner etc chocado q saí do kalu e tinha um moço lá com um tesla vei para poder entregar as encomendas dos seus modelos apesar da crise de chips a nivel 🌍 tesla substituiu chips e reescreveu o seu firmware numa questão de semanas\\n\\nagilidade capacidade de inovar resiliência  e espectacular \\ntesla\\ntsla https//tco/0yfvyhvbch ✨manifesting a tesla✨ nossa mas fui assistir o nct life e as opções de transporte eram um tesla ou uma bmw juro que coisa de ryco ford rouba extesla que atuava como chefe do projeto apple car https//tco/vqpj1kqssn formula e team for @tesla  @elonmusk vlw @elonmusk tmj meu novo tesla https//tco/r3ym7vwvnx a ação da amazon caiu de 110 para 11 antes de ir para 3000 \\nbitcoin caiu de 20000 para menos de 4000 antes de ir para 60000 a ação da tesla passou de 300 para 180 antes de ir para 2000\\no segredo não é apenas escolher os investimentos certos é manter eles\\n@pilaresdarique tesla corre aqui https//tco/hxodeghamy a tesla https//tco/qlzkibicsb no gas issa tesla mom https//tco/newpfikjtk @ruimoura sim lá nos usa claro mas o conceito do y nao era ser o mais acessivel da tesla ou estou a confundir  admito que sim @light_defi @elonmusk @latestengineer já pensou grades pontos de carregamento nas estradas usando as fazendas fotovoltaica da light para carregar nosso carros elétricos energia limpa vai ser grandioso isso meu sonho ter um tesla 🙏 @light_defi @elonmusk @tesla pra mim qm compra tesla branco não é certo da cabeça @pnelsxn bd perso cade meu tesla @lauraigneves tw 1º ano do tesla @dosievil me da um tesla bom disso tudo é que ele revolucionou mundo científico mas até hoje tá fadado a ser sombra dos outros pq se pesquisa tesla só aparece elon musk e se pesquisa nikola tesla tb aparece 1 elon musk @filis12453093 @pok3rst4rs @kenmiies cês tem razão maldito gurgel que não fabricou logo de cara 40 anos atrás um igual ao roadster da tesla top 10 ações americanas mais procuradas por brasileiros\\n\\n1 tesla\\n2 apple\\n3 nvidia\\n4 amazon\\n5 microsoft \\n6 amc \\n7 palantir\\n8 moderna \\n9 robinhood \\n10 bitdigital \\n\\nfonte levantamento stake publicado no @valorinveste tesla musk quer lançar carrro sem voltante em 2023 https//tco/o7c8q69nqi tech @joaomiranda @ccz1 sim como aqueles do “invista 250€ na tesla” homem finge ser atropelado e é incriminado pela câmara de um tesla https//tco/zhyww7bkzm @silvestrefalcao @bolsomito380 não sabia q a space x tava falindo a tesla tbm a amazon tbm assim como tesla truck nem todo mundo acha bonito… mas é tesla truck https//tco/yhf3i1ovkq @israel_massa @hugoqueiroz_ modelo novo da tesla ate o tesla vai ter recesso e essa bosta do integral vai ter aula pois saiba que não vou ver acho que o mundo vai ser tipo um cyberpunk em uns anos dinheiro vai ficar descentralizado guerra com governo contra controle de capital hacker atacando carteiras digitais a todo momento e uns robô da tesla na rua ao vivo \\nvamos conversar sobre baterias elétricas x células de hidrogênio qual o futuro do automobilismo \\n\\nconvidado roberto saldo especialista em conversão de veículos elétricos e ceo da tesla brasil\\n\\nhttps//tco/2hykfetd2e busca por “nova tesla” põe em evidência startups de transporte aéreo saiba mais no texto https//tco/dgnvuviamu https//tco/6mqwyg1xvd @pjfdf @blnarymlke @_tuaregue_ além disso supostamente sai o tesla model 2 uns dois anos antes desse chegar ao mercado o model 2 é suposto andar perto dos 25k é dp ainda tens as marcas chinesas q já vão começando a vender na europa só alguns dos modelos eu só queria um tesla e nada mais gas sensor market https//tco/ebptahmxd1 @goncalobdiass agradeço o gesto amigo depois dou te um tesla quando for rico eu não acredito que eu vivi a minha vida pra ver moon taeil dirigir um tesla @jafcpereira opah pediam me 8 de juros para o id4 vs 2 na tesla  @devscansados o tesla é elétrico né então vai sair ainda mais caro carregar ele queria um tesla 😭😭 não acredito que sonhei que tinha um tesla socorro @eusouzarolho @aramisbackup nos dias que correm podes estar à espera 3 meses de uma ótica traseira até de um dacia duster em relação ao teu vizinho o problema dele será mais problemas de seguradora pois ninguém fica mais de 1 semana à espera de um vidro parabrisas tesla ou não tesla quero fazer uma bobina de tesla  será que morro fazendo mas será que a tesla so faz carros feios @ry0asuka__ @lucasraioz caminhão tesla @harc32326735 @elonmusk @tesla @light_defi @elonmusk olha aqui agora por favor @rychillie mas isso é obrigatório no mundo todo tesla ainda não é totalmente autonomo e mesmo que fosse é obrigatório a pessoa saber dirigir em caso de erro trabalhar pra ganhar dinheiro e comprar um tesla pro taeil @safesleah @castielfn @nelatwozero @rynchasw vou comprar um tesla rlx @changsbulba ah tudo bem amg kksksksk ele mostrou o novo tesla dele e mostrou a customização @loviehae um tesla um tesla só queria um tesla @souzaxmay com certeza… todas as fábricas de carro vão entrar nisso… soh que talvez vão ser como o android dos smart phones que são ótimos também é vai ter uma boa fatia no mercado mais enfim isso eh soh especulação…  posso estar errado e eu sou tendencioso pq eu tenho tesla haha 😂 e eu que ganhei um tesla e não tinha onde carregar no sonho @danielalima_ não vejo a hora da wolksvagen ou tesla robotizar caminhões ficar nas mãos dessa galera aí é f novidades da volkswagen mercedesbenz porsche bmw e tesla  para frota de 2025 fazem a gente querer que o futuro chegue mais rápido nas pistas 😉🚗 venha conferir 🌎 carroselétricos \\n\\nhttps//tco/gq6enbdbmn que sonho de consumo um tesla é isso montar uma gaiola de faraday e criar uma bobina de tesla 😎😎😎 @jordanfarialima quando que a tesla vai lançar aquele self driving truck mesmo @catbnittx @anonymousbrof vc pode comprar um tesla @arthurjs_2 @faveladoinvest tesla é uma bolha man ford rouba extesla que atuava como chefe do projeto apple car https//tco/oxcawqv679 via @uolcarros @uol @francisco_oao still melhor que o da tesla o volante @kimpaim praticamente um robô da tesla só eu q vim perceber um dia desses q o carrinho q aparece no mapa do uber é um tesla quero buscar um tesla e um ous branco @anhysby a tesla @y_jaydee @taylorogan @tesla @elonmusk panamera turbo s amg gt63s @vitor_a_c ishi  não foi ele que “”””financiou””” o golpe na bolívia pra continuar explorando o lítio lá tp pq as baterias do tesla só basicamente feitas de lítio né hoje eu vi um tesla n acreditei nisso tesla le bg https//tco/kjrtgpwqxh elon at it again elon musk destrói o sistema de educação em 1 minuto | legendado https//tco/cihk5f7sgl\\nelon elonmusk spacex space tesla starship @by_zorica tesla je ta rio tinto penicilin 👍 @momentoliberal @carmosinda @sofiadoinferno @lordjimpt lol o gajo é um predador com os funcionários da tesla\\n\\nhttps//tco/zeaydbqyqb @9ostobio ata n é q tesla oficial por isso ta ruim @txspio tá me devendo um tesla kakakaka @politta_c se um tesla pode mudar o som pq as chaleiras não vacilo @dan_ifran @elonmusk @lightdefi @light_defi @tesla o brasil está com a light defi projeto grandioso e de extrema importância para nós energia limpa https//tco/9rf2hjaptg ah mas tinha que ser a trilha de toda apresentação da tesla\\n\\nhttps//tco/ylsiewf7wo @o_bellzinnho por exemplo a tesla fornecendo suas bases de desenvolvimento de automóveis eletricos se auto intitulando como a melhor produtora de veículos de tal gênero puta jogada apanhei uma viagem num tesla fodase nem sabia abrir a porta daquela merda tesla patenteou laser que limpa vidros de carros\\nhttps//tco/65k9bnen1z'"
      ]
     },
     "execution_count": 65,
     "metadata": {},
     "output_type": "execute_result"
    }
   ],
   "source": [
    "cat1=train.loc[train['Classificação']==1,:]\n",
    "categoria1=cat1.Treinamento.apply(cleanup).to_frame()\n",
    "tweets1=''\n",
    "for tweet in categoria1.Treinamento:\n",
    "    tweets1 += ' '\n",
    "    tweets1+= str(tweet)\n",
    "tweets1"
   ]
  },
  {
   "cell_type": "code",
   "execution_count": 66,
   "metadata": {},
   "outputs": [
    {
     "data": {
      "text/plain": [
       "' em 2025 a vw quer disponibilizar em algumas cidades veículos autónomos só em algumas cidades porque depende de mapas altamente detalhados entretanto a tesla tem o seu sistema beta 92 que faz isto em qualquer cidade americana\\nhttps//tco/oswlwg4wja https//tco/xqavwgvgud claro\\ncriador da internet wifi motor eletrico carro eletrico controle remoto raio x e outras centenas de obras que em 1890 já estariamos livres de governos\\nobrigado tesla\\n👌 https//tco/dhj5hqynzy @ktvz so no more tesla @itstomlynch bahaha… tesla is a complete unit @jaromirorlov move tesla is my turn now /hj @faveladoinvest amazon tesla e google são as melhores opções código de fonte mostra que tesla já começou a testar fsdbeta na europa\\n\\nisso indica que não haverá mais mudanças drásticas no hardware ou software como foi o caso nos últimos 3 anos para que alcancem autonomia “driverless” https//tco/qt2jjkkuzg um futuro com carros parecidos é o que teme um dos executivos mais importantes do mundo\\n\\nmercedes mercedeseq evcars sedans tesla https//tco/fj9fkfzw5z a ação da amazon caiu de 110 para 11 antes de ir para 3000 \\nbitcoin caiu de 20000 para menos de 4000 antes de ir para 60000 a ação da tesla passou de 300 para 180 antes de ir para 2000\\no segredo não é apenas escolher os investimentos certos é manter eles @frd_ferrer sim pq eu vou fazer a prova num tesla beelzebu vai pagar por ter feito tanta maldade com meu filho espero q tesla enfie uma raquete elétrica no cu dele te odeio beel te odeio https//tco/9tykukau7h essa tecnologia já existe na empresa tesla e se chama full selfdriving fsd versão mais avançada do piloto automático \\nhttps//tco/j4pk8kv1m8 se eu falar q eu vi um tesla em sumaré alguém acredita tesla era foda mano pena q tinha uns pensamentos preconceituosos @qsalvarani compra um tesla kkkk esses caminhoneiros aqui são os mesmos dos carros autônomos da tesla https//tco/1pxd280i2p @kevwuzy ape mode x tesla há cerca de dois anos a tesla vem trabalhando em uma tecnologia para usar feixes de laser para limpar automaticamente os detritos dos carros \\n\\nhttps//tco/dcs9gpph30 https//tco/xq5wdtefam @cacafla81 @supercaruso e hj em dia tem uma startup e a tesla estocando energia eólica em geradores e um estudo inglês sobre a possibilidade de utilizar vento em forma líquida para gerar energia em usinas eólicas ou seja não é q oq ela falou era impensável era só q a gnt zoou a forma como foi dita eu ganhei um tesla do menino que gosto 💁🏻\\u200d♀️ chegando do role com a safira um tesla pique x6 saino do lava jato aqui do lado de casa @randallrandomm @ryansmallman @calvet_arts @gabirotcho o tesla com uma bazuca lazer agora é meu papel de parede do celular kkkkkkkk mano to apaixonado num tesla coil slc tesla terá que dividir dados de sistema de direção autônoma com agência de tráfego nos eua  https//tco/xnq0bdm8de https//tco/khroul3jzy @canalteslabr haverá algum model x plain minha fav do raff eh tesla tesla news @anonymouscrec vou comprar u tesla @safesleah @castielfn @nelatwozero @rynchasw vc n sabe oq é um tesla @_helene eu falo assim mas meu sonho ter um tesla a produção da pickup da @tesla estava planeada para 2021 mas parece que agora só mesmo no próximo ano https//tco/ghgtuawuc4 tesla | piloto automático deve receber grande atualização nesta semana https//tco/o1qgdxxiri a tesla defs https//tco/dnfcxewrm0 wtf… acabei de ver um tesla táxi a tesla poderá disponibilizar o seu software de condução autónoma o full selfdriving fsd sob forma de uma beta pública no final de setembro\\nesta beta pública ficará disponível apenas para quem adquiriu este extra em separado para os respetivos\\n\\nhttps//tco/o96qbae7g8 https//tco/eik6ptaxfh @davidxproctor @a_aflo @mingo_beau @marieke77530847 @kade_lj incoming tesla https//tco/usitmegrtu competitividade embora muitos tenham tentado e tentem caso da bostondynamics  elon confirmou que grande parte da tecnologia necessária para o bot já existe e encontra se implementada nos tesla a declaração de elon musk durante reunião interna da tesla confirmou o início da produção do cybertruck para o final do ano que vem tecmundo https//tco/kiygwdaasi @nelsxn404 @elonmusk com 5€ ganhei um tesla\\n\\nnão é clickbait juro emprestou o tesla model y ao amigo e acabou por ficar sem carro https//tco/qa15bdfqjk @rrmiguele e o tesla que tem uma rtx  @laurayourecrazy hmmm eu gosto dos nãoelétricos tbm embora saiba muito pouco sobre também n sei mt de carros elétricos mas sou fanboy da tesla praticamente kkkk @souljaboy tesla fosho o q é paia é esses new age fulero querendo botar misticismo e aliens nos papo do tesla como se precisasse tornar suas perspectivas mais sinistras do que ja eram por si só eu fiquei em choque ontem pois a letícia e a ana me esconderam que a letícia comprou um carro dai a letícia só falou assim fique pronta que eu te busco em casa eu falei  huum tá de carro 👀 mas dentro de mim eu sabia que não era o tesla https//tco/hkdvnwcsy8 não acredito que estou a andar de tesla vocês acertaram é carro e é umas 10x mais\\n\\nisso ajuda a entender o problema de chips da indústria não é que todos estão faltando basta um chip que custa centavos em 100 faltar que a planta praticamente precisa parar\\n\\no musk fala sobre isso no último ec da tesla https//tco/lh8r7scvbv fora dos stories eu to com preguiça de dirigir ate em casa… tesla nunca @elonmusk @wholemarsblog aceita bitcoin        quero um tesla @danielarpm pois é chato mas o entusiasmo de ter um carrinho novo suplanta isso  ainda por cima um tesla 11800m²\\n\\n@tesla abre maior centro de entregas de carros na ásia\\nfica em beijing\\n\\nteslachina https//tco/sfewk78x7r @canalteslabr pode ser um bom competidor ao model 2 da @tesla só que até agora o que temos de ev da @vw @vwbrasil no brasil nada\\n\\nquem tem feito menos para br\\nacho que vw já que tem presença a décadas no brasil \\n\\nhttps//tco/oucumxdtvw pela estrada fora tesla roadster só em 2023 – diz elon musk https//tco/njcljrffru tesla cybertruck é adiado mais uma vez desta vez em mais de um ano https//tco/f3umy7rpbm tesla cybertruck é adiado mais uma vez agora em mais de um ano tecnologia canaltech https//tco/xvnqjdmwin @villacando então foi isso que eu disse que o elon musk é um cuzão e que as parada da tesla são daora pq os desenvolvedores são foda um tesla bicho compraram um tesla um sonho comprar um tesla model 3 kkkkkkk se me perguntarem hoje meu carro dos sonhos tesla mil x maior merda é que eu era fissurado na tesla e meu sonho era ter um model y mas com os caras travando funcionalidade por software que está literalmente montada no carro e com as merdas que o elon musk fala tá é doido @mdpetroleumhead @eusouzarolho eu não sigo muito as conferências da tesla mas em qualquer conferência que o musk da ele acaba sempre por falar é a percepção que tenho em relação ao negocio é que é difícil fazelo fora da américa 🤔 por exemplo existem países para onde nem se exporta por causa dos impostos  @souljaboy tesla model x no doubt tesla patenteia limpador de parabrisa a laser que vaporiza sujeira no\\xa0vidro https//tco/dwfm5z1eou @luanecb7 se eu tivesse ganhado ja tinha comprado meu tesla e ja tava sendo feliz o sonho do taeil é ter um tesla pois o meu também vamos se casar taeil pfv [vídeo] jovem destrói armazém ao acelerar tesla crianças não façam isso em casa autopapo curtas  https//tco/g54wbhznkn https//tco/m6fkmvwndo tesla musk quer lançar carrro sem voltante em 2023  https//tco/xy9zqznfmj tesla aqui é o renegade do brasil muiiito de vizu num tesla refletivo preto @enick36 compra um tesla tesla registra patente de limpador de parabrisa que destrói sujeira com laser https//tco/4jziuvdxnw https//tco/qujlgzayha'"
      ]
     },
     "execution_count": 66,
     "metadata": {},
     "output_type": "execute_result"
    }
   ],
   "source": [
    "cat2=train.loc[train['Classificação']==2,:]\n",
    "categoria2=cat2.Treinamento.apply(cleanup).to_frame()\n",
    "tweets2=''\n",
    "for tweet in categoria2.Treinamento:\n",
    "    tweets2 += ' '\n",
    "    tweets2+= str(tweet)\n",
    "tweets2"
   ]
  },
  {
   "cell_type": "code",
   "execution_count": 67,
   "metadata": {},
   "outputs": [
    {
     "data": {
      "text/plain": [
       "' @c3noural um tesla tbm vai de 0 a 100 muito rápido na maioria das vezes leva apenas 8 segundos 🥶🥶 sempre que vou na rua e passo por um tesla não consigo ficar indiferente não consigo mesmo carro mesmo lindo 😍😍 tesla giga shanghai aumentou as vendas em 34 em agosto registando 44264 modelo 3 e y https//tco/yijevci5fp e o povo dizendo é é padrão tesla vão para a puta que pariu um mustang mache sai por 42 mil dólares e com toda certeza não vem com erros primários de montagem um model y sai por 48 mil dólares https//tco/uahzchlajx @twelvetwentytew get a tesla  zero 0 maintenance https//tco/dbmk6ypmeo @jocanetoo cadê a tesla colocando refletor pra diminuir esse calor kkkkkkk pela estrada fora baterias 4680 da tesla aproximamse da produção desejada https//tco/j3lvlscvw9 foda ter que ralar p ter um tesla ne https//tco/g8hcwz0sjx @claudiof @ruimoura acho que não o y é apenas um 3 com mais espaço atrás e mala maior\\n\\no que falas é um outro modelo q ainda não foi sequer apresentado\\n\\nanyway tesla nunca esteve no meu radar mega preços para pagar coisas em que eu tenho zero intresse @luanad0liveira irmã foi por isso que eu te disse pra comprar um tesla elétrico é só ligar no 220 e deixar carregando @hero__project tesla veio para revolucionar o mercado projeto muito bom bela bosta dirigir um tesla a parada demora meio minuto pra subir a porta e mais meio para fechar trancando totalmente a passagem ou transito vai se lascar devia ter comprado um tesla elon musk tesla cybertuck só chega ao mercado no final de 2022 tecnologia tecmundo https//tco/dhdafovvah tesla roadster só em 2023 – diz elon musk https//tco/a63231gw5q https//tco/f1zrxh7yht elon musk tesla cybertuck só chega ao mercado no final de 2022 https//tco/43jxw1rlaj kkquero um tesla 📊 notícias tendências e análises 09092021\\n\\nas vendas da tesla na china aumentaram com o aumento geral na demanda de veículos\\n\\n➡️ https//tco/w3nnb2nfqv https//tco/afzuksw0vp em tempo estou fazendo um divórcio de um casal da califórnia cuja a partilha garante entre outras coisas pra esposa um tesla s 2019 pedindo a deus pra ela n querer vender e eu seja tentado hahahahaha livraime 😅 @souzaxmay aqui na califórnia foi assinado uma ordem executiva pelo governador atual 🤮 para que todas as vendas de automóveis e caminhões de passageiros novos no estado fossem totalmente elétricas até 2035 eu apostaria no longo prazo em tesla tesla vai virar carro popular aqui 🔜 nossa eu nunca compraria um tesla sendo q a audi tá lançando esses carros kkkkk c tá é doido pqp não é que seja uma novidade mas vale a pena lembrar que a qualidade de construção de um tesla é terrível sobretudo para o preço a pagar https//tco/scbatenx1s as ações da tesla andaram de lado por 6 anos isso mesmo 6 anos sem dar resultados para depois entregar 1980 de ganho\\nentende https//tco/guwqitpel5 @silencingtrees já é um problema que dura anos no modelo y houve pessoas que perderam o parabrisas enquanto conduziam \\n\\nhttps//tco/kroiax6q8t tesla terá que dividir dados de sistema de direção autônoma com agência de tráfego nos eua  https//tco/xnq0bdm8de https//tco/ywkomgrblx tesla musk quer lançar carrro sem voltante em 2023 https//tco/estajvltgf techaominuto pq todo tesla é feio vi um tesla model 3 hj na rua que carro daora bicho um carro — um tesla me da um https//tco/hx8zjudtwy'"
      ]
     },
     "execution_count": 67,
     "metadata": {},
     "output_type": "execute_result"
    }
   ],
   "source": [
    "cat3=train.loc[train['Classificação']==3,:]\n",
    "categoria3=cat3.Treinamento.apply(cleanup).to_frame()\n",
    "tweets3=''\n",
    "for tweet in categoria3.Treinamento:\n",
    "    tweets3 += ' '\n",
    "    tweets3+= str(tweet)\n",
    "tweets3"
   ]
  },
  {
   "cell_type": "code",
   "execution_count": 72,
   "metadata": {},
   "outputs": [
    {
     "data": {
      "text/plain": [
       "0                   @repl1cunt\n",
       "1                         diga\n",
       "2                         isso\n",
       "3                           ao\n",
       "4                         dono\n",
       "                 ...          \n",
       "12538                    tesla\n",
       "12539                       me\n",
       "12540                       da\n",
       "12541                       um\n",
       "12542    https//tco/hx8zjudtwy\n",
       "Length: 12543, dtype: object"
      ]
     },
     "execution_count": 72,
     "metadata": {},
     "output_type": "execute_result"
    }
   ],
   "source": [
    "tudo=tweets0+' '+tweets1+' '+tweets2+' '+tweets3\n",
    "\n",
    "portugues=tudo.split()\n",
    "series_portugues=pd.Series(portugues)\n",
    "series_portugues"
   ]
  },
  {
   "cell_type": "code",
   "execution_count": 80,
   "metadata": {},
   "outputs": [],
   "source": [
    "#Mostra quanto uma palavra apareceu em cada classificacao\n",
    "todotweet0=tweets0.split()\n",
    "series_todotweet0=pd.Series(todotweet0)\n",
    "tabela_tweets0=series_todotweet0.value_counts(True)\n",
    "\n",
    "todotweet1=tweets1.split()\n",
    "series_todotweet1=pd.Series(todotweet1)\n",
    "tabela_tweets1=series_todotweet1.value_counts(True)\n",
    "\n",
    "todotweet2=tweets2.split()\n",
    "series_todotweet2=pd.Series(todotweet2)\n",
    "tabela_tweets2=series_todotweet2.value_counts(True)\n",
    "\n",
    "todotweet3=tweets3.split()\n",
    "series_todotweet3=pd.Series(todotweet3)\n",
    "tabela_tweets3=series_todotweet3.value_counts(True)"
   ]
  },
  {
   "cell_type": "markdown",
   "metadata": {},
   "source": [
    "___\n",
    "### Verificando a performance do Classificador\n",
    "\n",
    "Agora você deve testar o seu classificador com a base de Testes."
   ]
  },
  {
   "cell_type": "code",
   "execution_count": 69,
   "metadata": {},
   "outputs": [
    {
     "data": {
      "text/plain": [
       "0      @h3nrys2 quem curtir aqui vai me dar um porsch...\n",
       "1      terminei o bendito resumo do tesla e to me sen...\n",
       "2                  @mattayahumateus aluga um tesla matta\n",
       "3      100 elétrico como foi a experiência de dirigir...\n",
       "4      gente off aqui eu tentei ouvir tesla na viagem...\n",
       "                             ...                        \n",
       "345    @trbabydogecoin @binance @babydogecoin @elonmu...\n",
       "346    @trbabydogecoin @binance @babydogecoin @elonmu...\n",
       "347    @trbabydogecoin @binance @babydogecoin @elonmu...\n",
       "348    @rubidio_tesla @brega_falcao diz aí como que u...\n",
       "349    @emaciasg @albertoroldan_ @esa_es @sonyespana ...\n",
       "Name: Teste, Length: 350, dtype: object"
      ]
     },
     "execution_count": 69,
     "metadata": {},
     "output_type": "execute_result"
    }
   ],
   "source": [
    "test.Teste.apply(cleanup)"
   ]
  },
  {
   "cell_type": "code",
   "execution_count": null,
   "metadata": {},
   "outputs": [],
   "source": []
  },
  {
   "cell_type": "markdown",
   "metadata": {},
   "source": [
    "___\n",
    "### Concluindo"
   ]
  },
  {
   "cell_type": "code",
   "execution_count": null,
   "metadata": {},
   "outputs": [],
   "source": []
  },
  {
   "cell_type": "code",
   "execution_count": null,
   "metadata": {},
   "outputs": [],
   "source": []
  },
  {
   "cell_type": "code",
   "execution_count": null,
   "metadata": {},
   "outputs": [],
   "source": []
  },
  {
   "cell_type": "code",
   "execution_count": null,
   "metadata": {},
   "outputs": [],
   "source": []
  },
  {
   "cell_type": "markdown",
   "metadata": {},
   "source": [
    "___\n",
    "### Qualidade do Classificador a partir de novas separações dos tweets entre Treinamento e Teste\n",
    "\n",
    "Caso for fazer esse item do Projeto"
   ]
  },
  {
   "cell_type": "code",
   "execution_count": null,
   "metadata": {},
   "outputs": [],
   "source": []
  },
  {
   "cell_type": "code",
   "execution_count": null,
   "metadata": {},
   "outputs": [],
   "source": []
  },
  {
   "cell_type": "code",
   "execution_count": null,
   "metadata": {},
   "outputs": [],
   "source": []
  },
  {
   "cell_type": "markdown",
   "metadata": {},
   "source": [
    "___\n",
    "## Aperfeiçoamento:\n",
    "\n",
    "Trabalhos que conseguirem pelo menos conceito B vão evoluir em conceito dependendo da quantidade de itens avançados:\n",
    "\n",
    "* IMPLEMENTOU outras limpezas e transformações que não afetem a qualidade da informação contida nos tweets. Ex: stemming, lemmatization, stopwords\n",
    "* CORRIGIU separação de espaços entre palavras e emojis ou entre emojis e emojis\n",
    "* CRIOU categorias intermediárias de relevância baseadas na probabilidade: ex.: muito relevante, relevante, neutro, irrelevante, muito irrelevante. Pelo menos quatro categorias, com adição de mais tweets na base, conforme enunciado. (OBRIGATÓRIO PARA TRIOS, sem contar como item avançado)\n",
    "* EXPLICOU porquê não pode usar o próprio classificador para gerar mais amostras de treinamento\n",
    "* PROPÔS diferentes cenários para Naïve Bayes fora do contexto do projeto\n",
    "* SUGERIU e EXPLICOU melhorias reais com indicações concretas de como implementar (indicar como fazer e indicar material de pesquisa)\n",
    "* FEZ o item 6. Qualidade do Classificador a partir de novas separações dos tweets entre Treinamento e Teste descrito no enunciado do projeto (OBRIGATÓRIO para conceitos A ou A+)"
   ]
  },
  {
   "cell_type": "markdown",
   "metadata": {},
   "source": [
    "___\n",
    "## Referências"
   ]
  },
  {
   "cell_type": "markdown",
   "metadata": {},
   "source": [
    "[Naive Bayes and Text Classification](https://arxiv.org/pdf/1410.5329.pdf)  **Mais completo**\n",
    "\n",
    "[A practical explanation of a Naive Bayes Classifier](https://monkeylearn.com/blog/practical-explanation-naive-bayes-classifier/) **Mais simples**"
   ]
  },
  {
   "cell_type": "markdown",
   "metadata": {},
   "source": [
    "## "
   ]
  }
 ],
 "metadata": {
  "kernelspec": {
   "display_name": "Python 3",
   "language": "python",
   "name": "python3"
  },
  "language_info": {
   "codemirror_mode": {
    "name": "ipython",
    "version": 3
   },
   "file_extension": ".py",
   "mimetype": "text/x-python",
   "name": "python",
   "nbconvert_exporter": "python",
   "pygments_lexer": "ipython3",
   "version": "3.8.5"
  }
 },
 "nbformat": 4,
 "nbformat_minor": 4
}
