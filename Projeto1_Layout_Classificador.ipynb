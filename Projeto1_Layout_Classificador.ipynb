{
 "cells": [
  {
   "cell_type": "markdown",
   "metadata": {},
   "source": [
    "# Projeto 1 - Ciência dos Dados"
   ]
  },
  {
   "cell_type": "markdown",
   "metadata": {},
   "source": [
    "Nome: Alberto Carrera\n",
    "\n",
    "Nome: Gabriel Barbosa\n",
    "\n",
    "Nome: Rodrigo Gomes"
   ]
  },
  {
   "cell_type": "markdown",
   "metadata": {},
   "source": [
    "Atenção: Serão permitidos grupos de três pessoas, mas com uma rubrica mais exigente. Grupos deste tamanho precisarão fazer um questionário de avaliação de trabalho em equipe"
   ]
  },
  {
   "cell_type": "markdown",
   "metadata": {},
   "source": [
    "___\n",
    "Carregando algumas bibliotecas:"
   ]
  },
  {
   "cell_type": "code",
   "execution_count": 2,
   "metadata": {},
   "outputs": [],
   "source": [
    "%matplotlib inline\n",
    "import pandas as pd\n",
    "import matplotlib.pyplot as plt\n",
    "import numpy as np\n",
    "import os"
   ]
  },
  {
   "cell_type": "code",
   "execution_count": 3,
   "metadata": {
    "scrolled": false
   },
   "outputs": [
    {
     "name": "stdout",
     "output_type": "stream",
     "text": [
      "Esperamos trabalhar no diretório\n",
      "C:\\Users\\alber\\OneDrive\\Área de Trabalho\\C Dados\\Projeto 1 Cdados\\Pasta Projeto 1\\Projeto1_CDados\n"
     ]
    }
   ],
   "source": [
    "print('Esperamos trabalhar no diretório')\n",
    "print(os.getcwd())"
   ]
  },
  {
   "cell_type": "markdown",
   "metadata": {},
   "source": [
    "Carregando a base de dados com os tweets classificados como relevantes e não relevantes:"
   ]
  },
  {
   "cell_type": "code",
   "execution_count": 4,
   "metadata": {},
   "outputs": [],
   "source": [
    "filename = 'tesla.xlsx'"
   ]
  },
  {
   "cell_type": "code",
   "execution_count": 5,
   "metadata": {},
   "outputs": [
    {
     "data": {
      "text/html": [
       "<div>\n",
       "<style scoped>\n",
       "    .dataframe tbody tr th:only-of-type {\n",
       "        vertical-align: middle;\n",
       "    }\n",
       "\n",
       "    .dataframe tbody tr th {\n",
       "        vertical-align: top;\n",
       "    }\n",
       "\n",
       "    .dataframe thead th {\n",
       "        text-align: right;\n",
       "    }\n",
       "</style>\n",
       "<table border=\"1\" class=\"dataframe\">\n",
       "  <thead>\n",
       "    <tr style=\"text-align: right;\">\n",
       "      <th></th>\n",
       "      <th>Treinamento</th>\n",
       "      <th>Classificação</th>\n",
       "    </tr>\n",
       "  </thead>\n",
       "  <tbody>\n",
       "    <tr>\n",
       "      <th>0</th>\n",
       "      <td>@gnavarrocbz tesla é totalmente fora de cogita...</td>\n",
       "      <td>1</td>\n",
       "    </tr>\n",
       "    <tr>\n",
       "      <th>1</th>\n",
       "      <td>em 2025 a vw quer disponibilizar em algumas ci...</td>\n",
       "      <td>2</td>\n",
       "    </tr>\n",
       "    <tr>\n",
       "      <th>2</th>\n",
       "      <td>@repl1cunt diga isso ao dono do tesla</td>\n",
       "      <td>0</td>\n",
       "    </tr>\n",
       "    <tr>\n",
       "      <th>3</th>\n",
       "      <td>@al43610394 @felipeneto ah é? elon musk é o qu...</td>\n",
       "      <td>1</td>\n",
       "    </tr>\n",
       "    <tr>\n",
       "      <th>4</th>\n",
       "      <td>@shipheroshe a tesla.</td>\n",
       "      <td>1</td>\n",
       "    </tr>\n",
       "  </tbody>\n",
       "</table>\n",
       "</div>"
      ],
      "text/plain": [
       "                                         Treinamento  Classificação\n",
       "0  @gnavarrocbz tesla é totalmente fora de cogita...              1\n",
       "1  em 2025 a vw quer disponibilizar em algumas ci...              2\n",
       "2              @repl1cunt diga isso ao dono do tesla              0\n",
       "3  @al43610394 @felipeneto ah é? elon musk é o qu...              1\n",
       "4                              @shipheroshe a tesla.              1"
      ]
     },
     "execution_count": 5,
     "metadata": {},
     "output_type": "execute_result"
    }
   ],
   "source": [
    "train = pd.read_excel(filename)\n",
    "train.head(5)"
   ]
  },
  {
   "cell_type": "code",
   "execution_count": 6,
   "metadata": {},
   "outputs": [
    {
     "data": {
      "text/html": [
       "<div>\n",
       "<style scoped>\n",
       "    .dataframe tbody tr th:only-of-type {\n",
       "        vertical-align: middle;\n",
       "    }\n",
       "\n",
       "    .dataframe tbody tr th {\n",
       "        vertical-align: top;\n",
       "    }\n",
       "\n",
       "    .dataframe thead th {\n",
       "        text-align: right;\n",
       "    }\n",
       "</style>\n",
       "<table border=\"1\" class=\"dataframe\">\n",
       "  <thead>\n",
       "    <tr style=\"text-align: right;\">\n",
       "      <th></th>\n",
       "      <th>Teste</th>\n",
       "      <th>Classificação</th>\n",
       "    </tr>\n",
       "  </thead>\n",
       "  <tbody>\n",
       "    <tr>\n",
       "      <th>0</th>\n",
       "      <td>@h3nrys2 quem curtir aqui vai me dar um porsch...</td>\n",
       "      <td>1</td>\n",
       "    </tr>\n",
       "    <tr>\n",
       "      <th>1</th>\n",
       "      <td>terminei o bendito resumo do tesla e to me sen...</td>\n",
       "      <td>1</td>\n",
       "    </tr>\n",
       "    <tr>\n",
       "      <th>2</th>\n",
       "      <td>@mattayahumateus aluga um tesla matta</td>\n",
       "      <td>1</td>\n",
       "    </tr>\n",
       "    <tr>\n",
       "      <th>3</th>\n",
       "      <td>100% elétrico: como foi a experiência de dirig...</td>\n",
       "      <td>3</td>\n",
       "    </tr>\n",
       "    <tr>\n",
       "      <th>4</th>\n",
       "      <td>gente off aqui eu tentei ouvir tesla na viagem...</td>\n",
       "      <td>3</td>\n",
       "    </tr>\n",
       "  </tbody>\n",
       "</table>\n",
       "</div>"
      ],
      "text/plain": [
       "                                               Teste  Classificação\n",
       "0  @h3nrys2 quem curtir aqui vai me dar um porsch...              1\n",
       "1  terminei o bendito resumo do tesla e to me sen...              1\n",
       "2              @mattayahumateus aluga um tesla matta              1\n",
       "3  100% elétrico: como foi a experiência de dirig...              3\n",
       "4  gente off aqui eu tentei ouvir tesla na viagem...              3"
      ]
     },
     "execution_count": 6,
     "metadata": {},
     "output_type": "execute_result"
    }
   ],
   "source": [
    "test = pd.read_excel(filename, sheet_name = 'Teste')\n",
    "test.head(5)"
   ]
  },
  {
   "cell_type": "code",
   "execution_count": 7,
   "metadata": {},
   "outputs": [
    {
     "data": {
      "text/plain": [
       "Teste                                                                                                                                                                                                                                                      Classificação\n",
       "\"a vida é e sempre será uma equação incapaz de solução, mas contém certos fatores conhecidos.\"\\n\\nnikola tesla.                                                                                                                                            0                1\n",
       "eu quero tanto aquele tesla roxo refletivo🥺😭😓😭                                                                                                                                                                                                             1                1\n",
       "fui no aniversário da minha prima e o padrinho dela (que não é parente meu) foi dar uma de coach pra cima de mim falando que sou parecido com o tesla sendo que kkkkk ele não sabia que era o tesla, ele achava que era o elon musk que chamava tesla '-'  0                1\n",
       "formar e arrumar um trampo foda pra ter grana pra comprar um tesla                                                                                                                                                                                         2                1\n",
       "ford recluta doug field ex dirigente apple car e tesla -  #recluta #field #dirigente #apple  https://t.co/jsrzgbed14                                                                                                                                       1                1\n",
       "                                                                                                                                                                                                                                                                           ..\n",
       "@pnelsxn bom dia perso\\ncade meu tesla?                                                                                                                                                                                                                    1                1\n",
       "@pnelsxn bom dia penilto, me da meu tesla                                                                                                                                                                                                                  2                1\n",
       "@pedrocalvo @kleytonmadruga @akitaonrails pra mim isso foi lobby da china afinal são eles que vão fabricar carro elétrico para todo.\\n\\na indústria é muito menos complexa q carro a combustão.\\n\\nnão vai ser um tesla, mas vai andar 😆                   1                1\n",
       "@pdunkelsz @adrogadadomonte @lticooficial @anonymouscrec sim, pra policia ir comer teu cu dps, cara foi esperto em comprar algo de 70 conto enquanto tem gente comprando até tesla importado                                                               1                1\n",
       "🚗a montadora #tesla planeja lançar um carro elétrico sem volante, a partir de 2023. a previsão de #elonmusk é que o novo veículo seja totalmente autônomo #tesla34\\nhttps://t.co/gxiubnw3mq                                                                3                1\n",
       "Length: 350, dtype: int64"
      ]
     },
     "execution_count": 7,
     "metadata": {},
     "output_type": "execute_result"
    }
   ],
   "source": [
    "test.value_counts()"
   ]
  },
  {
   "cell_type": "code",
   "execution_count": 8,
   "metadata": {},
   "outputs": [
    {
     "data": {
      "text/html": [
       "<div>\n",
       "<style scoped>\n",
       "    .dataframe tbody tr th:only-of-type {\n",
       "        vertical-align: middle;\n",
       "    }\n",
       "\n",
       "    .dataframe tbody tr th {\n",
       "        vertical-align: top;\n",
       "    }\n",
       "\n",
       "    .dataframe thead th {\n",
       "        text-align: right;\n",
       "    }\n",
       "</style>\n",
       "<table border=\"1\" class=\"dataframe\">\n",
       "  <thead>\n",
       "    <tr style=\"text-align: right;\">\n",
       "      <th></th>\n",
       "      <th>Treinamento</th>\n",
       "      <th>Classificação</th>\n",
       "    </tr>\n",
       "  </thead>\n",
       "  <tbody>\n",
       "    <tr>\n",
       "      <th>0</th>\n",
       "      <td>@gnavarrocbz tesla é totalmente fora de cogita...</td>\n",
       "      <td>1</td>\n",
       "    </tr>\n",
       "    <tr>\n",
       "      <th>1</th>\n",
       "      <td>em 2025 a vw quer disponibilizar em algumas ci...</td>\n",
       "      <td>2</td>\n",
       "    </tr>\n",
       "    <tr>\n",
       "      <th>2</th>\n",
       "      <td>@repl1cunt diga isso ao dono do tesla</td>\n",
       "      <td>0</td>\n",
       "    </tr>\n",
       "    <tr>\n",
       "      <th>3</th>\n",
       "      <td>@al43610394 @felipeneto ah é? elon musk é o qu...</td>\n",
       "      <td>1</td>\n",
       "    </tr>\n",
       "    <tr>\n",
       "      <th>4</th>\n",
       "      <td>@shipheroshe a tesla.</td>\n",
       "      <td>1</td>\n",
       "    </tr>\n",
       "  </tbody>\n",
       "</table>\n",
       "</div>"
      ],
      "text/plain": [
       "                                         Treinamento  Classificação\n",
       "0  @gnavarrocbz tesla é totalmente fora de cogita...              1\n",
       "1  em 2025 a vw quer disponibilizar em algumas ci...              2\n",
       "2              @repl1cunt diga isso ao dono do tesla              0\n",
       "3  @al43610394 @felipeneto ah é? elon musk é o qu...              1\n",
       "4                              @shipheroshe a tesla.              1"
      ]
     },
     "execution_count": 8,
     "metadata": {},
     "output_type": "execute_result"
    }
   ],
   "source": [
    "train = pd.read_excel(filename, sheet_name = 'Treinamento')\n",
    "train.head(5)"
   ]
  },
  {
   "cell_type": "markdown",
   "metadata": {},
   "source": [
    "___\n",
    "## Classificador automático de sentimento\n"
   ]
  },
  {
   "cell_type": "markdown",
   "metadata": {},
   "source": [
    "Faça aqui uma descrição do seu produto e o que considerou como relevante ou não relevante na classificação dos tweets.\n",
    "\n",
    "Classificados como 0: \n",
    "- Tweets que falam sobre Nikola Tesla\n",
    "- Tweets que só marcam pessoas e não falam sobre o produto\n",
    "\n",
    "\n",
    "Classificados como 1:\n",
    "- Fala sobre o produto\n",
    "\n",
    "\n",
    "Classificados como 2:\n",
    "- Falam diretamente sobre o produto, criticando ou elogiando\n",
    "\n",
    "\n",
    "Classificados como 3:\n",
    "- Falam diretamente sobre o produto, criticando ou elogiando\n",
    "- Além de se aprofundar no assunto, ou falando sobre ações ou sobre planos futuros, etc."
   ]
  },
  {
   "cell_type": "markdown",
   "metadata": {},
   "source": [
    "___\n",
    "### Montando um Classificador Naive-Bayes\n",
    "\n",
    "Considerando apenas as mensagens da planilha Treinamento, ensine  seu classificador."
   ]
  },
  {
   "cell_type": "code",
   "execution_count": 9,
   "metadata": {},
   "outputs": [],
   "source": [
    "import re \n",
    "\n",
    "\n",
    "def cleanup(text):\n",
    "    \"\"\"\n",
    "        Função de limpeza muito simples que troca alguns sinais básicos por espaços\n",
    "    \"\"\"\n",
    "    #import string\n",
    "    punctuation = '[!-.:?;]' # Note que os sinais [] são delimitadores de um conjunto.\n",
    "    #biblio \"emoji\", get_emoji_regexp\n",
    "    pattern = re.compile(punctuation)\n",
    "    text_subbed = re.sub(pattern, '', text)\n",
    "    return text_subbed"
   ]
  },
  {
   "cell_type": "code",
   "execution_count": 21,
   "metadata": {},
   "outputs": [
    {
     "data": {
      "text/plain": [
       "0      @gnavarrocbz tesla é totalmente fora de cogitação\n",
       "1      em 2025 a vw quer disponibilizar em algumas ci...\n",
       "2                  @repl1cunt diga isso ao dono do tesla\n",
       "3      @al43610394 @felipeneto ah é elon musk é o que...\n",
       "4                                   @shipheroshe a tesla\n",
       "                             ...                        \n",
       "645    @memeinteligente hawking e schrödinger as linh...\n",
       "646    @astronomiaum eh muito louco isso né vi um víd...\n",
       "647    magnata chinês que comprou volvo da ford plane...\n",
       "648    eletricidade foi o mais marcou a carreira de t...\n",
       "649    @trbabydogecoin @binance @babydogecoin @elonmu...\n",
       "Name: Treinamento, Length: 650, dtype: object"
      ]
     },
     "execution_count": 21,
     "metadata": {},
     "output_type": "execute_result"
    }
   ],
   "source": [
    "treino = train.Treinamento.apply(cleanup)\n",
    "treino"
   ]
  },
  {
   "cell_type": "code",
   "execution_count": 23,
   "metadata": {},
   "outputs": [
    {
     "data": {
      "text/html": [
       "<div>\n",
       "<style scoped>\n",
       "    .dataframe tbody tr th:only-of-type {\n",
       "        vertical-align: middle;\n",
       "    }\n",
       "\n",
       "    .dataframe tbody tr th {\n",
       "        vertical-align: top;\n",
       "    }\n",
       "\n",
       "    .dataframe thead th {\n",
       "        text-align: right;\n",
       "    }\n",
       "</style>\n",
       "<table border=\"1\" class=\"dataframe\">\n",
       "  <thead>\n",
       "    <tr style=\"text-align: right;\">\n",
       "      <th></th>\n",
       "      <th>Treinamento</th>\n",
       "      <th>Classificação</th>\n",
       "    </tr>\n",
       "  </thead>\n",
       "  <tbody>\n",
       "    <tr>\n",
       "      <th>2</th>\n",
       "      <td>@repl1cunt diga isso ao dono do tesla</td>\n",
       "      <td>0</td>\n",
       "    </tr>\n",
       "    <tr>\n",
       "      <th>5</th>\n",
       "      <td>@daianemels que maldade, poderia de atochada!</td>\n",
       "      <td>0</td>\n",
       "    </tr>\n",
       "    <tr>\n",
       "      <th>6</th>\n",
       "      <td>@aviacaodobrasil @govbr não basta ter uma pist...</td>\n",
       "      <td>0</td>\n",
       "    </tr>\n",
       "    <tr>\n",
       "      <th>7</th>\n",
       "      <td>@tesla_hyp eu tô passando mal vei como pode se...</td>\n",
       "      <td>0</td>\n",
       "    </tr>\n",
       "    <tr>\n",
       "      <th>8</th>\n",
       "      <td>@the_soloking76 @gamersclubcs @gio_fps foi sorte.</td>\n",
       "      <td>0</td>\n",
       "    </tr>\n",
       "    <tr>\n",
       "      <th>...</th>\n",
       "      <td>...</td>\n",
       "      <td>...</td>\n",
       "    </tr>\n",
       "    <tr>\n",
       "      <th>645</th>\n",
       "      <td>@memeinteligente hawking e schrödinger. as lin...</td>\n",
       "      <td>0</td>\n",
       "    </tr>\n",
       "    <tr>\n",
       "      <th>646</th>\n",
       "      <td>@astronomiaum eh muito louco isso né. vi um ví...</td>\n",
       "      <td>0</td>\n",
       "    </tr>\n",
       "    <tr>\n",
       "      <th>647</th>\n",
       "      <td>magnata chinês que comprou volvo da ford plane...</td>\n",
       "      <td>0</td>\n",
       "    </tr>\n",
       "    <tr>\n",
       "      <th>648</th>\n",
       "      <td>eletricidade foi o mais marcou a carreira de t...</td>\n",
       "      <td>0</td>\n",
       "    </tr>\n",
       "    <tr>\n",
       "      <th>649</th>\n",
       "      <td>@trbabydogecoin @binance @babydogecoin @elonmu...</td>\n",
       "      <td>0</td>\n",
       "    </tr>\n",
       "  </tbody>\n",
       "</table>\n",
       "<p>399 rows × 2 columns</p>\n",
       "</div>"
      ],
      "text/plain": [
       "                                           Treinamento  Classificação\n",
       "2                @repl1cunt diga isso ao dono do tesla              0\n",
       "5        @daianemels que maldade, poderia de atochada!              0\n",
       "6    @aviacaodobrasil @govbr não basta ter uma pist...              0\n",
       "7    @tesla_hyp eu tô passando mal vei como pode se...              0\n",
       "8    @the_soloking76 @gamersclubcs @gio_fps foi sorte.              0\n",
       "..                                                 ...            ...\n",
       "645  @memeinteligente hawking e schrödinger. as lin...              0\n",
       "646  @astronomiaum eh muito louco isso né. vi um ví...              0\n",
       "647  magnata chinês que comprou volvo da ford plane...              0\n",
       "648  eletricidade foi o mais marcou a carreira de t...              0\n",
       "649  @trbabydogecoin @binance @babydogecoin @elonmu...              0\n",
       "\n",
       "[399 rows x 2 columns]"
      ]
     },
     "execution_count": 23,
     "metadata": {},
     "output_type": "execute_result"
    }
   ],
   "source": [
    "cat0=train.loc[train['Classificação']==0,:]\n",
    "cat0"
   ]
  },
  {
   "cell_type": "markdown",
   "metadata": {},
   "source": [
    "___\n",
    "### Verificando a performance do Classificador\n",
    "\n",
    "Agora você deve testar o seu classificador com a base de Testes."
   ]
  },
  {
   "cell_type": "code",
   "execution_count": 12,
   "metadata": {},
   "outputs": [
    {
     "data": {
      "text/plain": [
       "0      @h3nrys2 quem curtir aqui vai me dar um porsch...\n",
       "1      terminei o bendito resumo do tesla e to me sen...\n",
       "2                  @mattayahumateus aluga um tesla matta\n",
       "3      100 elétrico como foi a experiência de dirigir...\n",
       "4      gente off aqui eu tentei ouvir tesla na viagem...\n",
       "                             ...                        \n",
       "345    @trbabydogecoin @binance @babydogecoin @elonmu...\n",
       "346    @trbabydogecoin @binance @babydogecoin @elonmu...\n",
       "347    @trbabydogecoin @binance @babydogecoin @elonmu...\n",
       "348    @rubidio_tesla @brega_falcao diz aí como que u...\n",
       "349    @emaciasg @albertoroldan_ @esa_es @sonyespana ...\n",
       "Name: Teste, Length: 350, dtype: object"
      ]
     },
     "execution_count": 12,
     "metadata": {},
     "output_type": "execute_result"
    }
   ],
   "source": [
    "test.Teste.apply(cleanup)"
   ]
  },
  {
   "cell_type": "code",
   "execution_count": null,
   "metadata": {},
   "outputs": [],
   "source": []
  },
  {
   "cell_type": "markdown",
   "metadata": {},
   "source": [
    "___\n",
    "### Concluindo"
   ]
  },
  {
   "cell_type": "code",
   "execution_count": null,
   "metadata": {},
   "outputs": [],
   "source": []
  },
  {
   "cell_type": "code",
   "execution_count": null,
   "metadata": {},
   "outputs": [],
   "source": []
  },
  {
   "cell_type": "code",
   "execution_count": null,
   "metadata": {},
   "outputs": [],
   "source": []
  },
  {
   "cell_type": "code",
   "execution_count": null,
   "metadata": {},
   "outputs": [],
   "source": []
  },
  {
   "cell_type": "markdown",
   "metadata": {},
   "source": [
    "___\n",
    "### Qualidade do Classificador a partir de novas separações dos tweets entre Treinamento e Teste\n",
    "\n",
    "Caso for fazer esse item do Projeto"
   ]
  },
  {
   "cell_type": "code",
   "execution_count": null,
   "metadata": {},
   "outputs": [],
   "source": []
  },
  {
   "cell_type": "code",
   "execution_count": null,
   "metadata": {},
   "outputs": [],
   "source": []
  },
  {
   "cell_type": "code",
   "execution_count": null,
   "metadata": {},
   "outputs": [],
   "source": []
  },
  {
   "cell_type": "markdown",
   "metadata": {},
   "source": [
    "___\n",
    "## Aperfeiçoamento:\n",
    "\n",
    "Trabalhos que conseguirem pelo menos conceito B vão evoluir em conceito dependendo da quantidade de itens avançados:\n",
    "\n",
    "* IMPLEMENTOU outras limpezas e transformações que não afetem a qualidade da informação contida nos tweets. Ex: stemming, lemmatization, stopwords\n",
    "* CORRIGIU separação de espaços entre palavras e emojis ou entre emojis e emojis\n",
    "* CRIOU categorias intermediárias de relevância baseadas na probabilidade: ex.: muito relevante, relevante, neutro, irrelevante, muito irrelevante. Pelo menos quatro categorias, com adição de mais tweets na base, conforme enunciado. (OBRIGATÓRIO PARA TRIOS, sem contar como item avançado)\n",
    "* EXPLICOU porquê não pode usar o próprio classificador para gerar mais amostras de treinamento\n",
    "* PROPÔS diferentes cenários para Naïve Bayes fora do contexto do projeto\n",
    "* SUGERIU e EXPLICOU melhorias reais com indicações concretas de como implementar (indicar como fazer e indicar material de pesquisa)\n",
    "* FEZ o item 6. Qualidade do Classificador a partir de novas separações dos tweets entre Treinamento e Teste descrito no enunciado do projeto (OBRIGATÓRIO para conceitos A ou A+)"
   ]
  },
  {
   "cell_type": "markdown",
   "metadata": {},
   "source": [
    "___\n",
    "## Referências"
   ]
  },
  {
   "cell_type": "markdown",
   "metadata": {},
   "source": [
    "[Naive Bayes and Text Classification](https://arxiv.org/pdf/1410.5329.pdf)  **Mais completo**\n",
    "\n",
    "[A practical explanation of a Naive Bayes Classifier](https://monkeylearn.com/blog/practical-explanation-naive-bayes-classifier/) **Mais simples**"
   ]
  },
  {
   "cell_type": "markdown",
   "metadata": {},
   "source": [
    "## "
   ]
  }
 ],
 "metadata": {
  "kernelspec": {
   "display_name": "Python 3",
   "language": "python",
   "name": "python3"
  },
  "language_info": {
   "codemirror_mode": {
    "name": "ipython",
    "version": 3
   },
   "file_extension": ".py",
   "mimetype": "text/x-python",
   "name": "python",
   "nbconvert_exporter": "python",
   "pygments_lexer": "ipython3",
   "version": "3.8.5"
  }
 },
 "nbformat": 4,
 "nbformat_minor": 4
}
